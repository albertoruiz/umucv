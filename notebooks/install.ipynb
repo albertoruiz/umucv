{
 "cells": [
  {
   "cell_type": "markdown",
   "metadata": {
    "hide_input": true
   },
   "source": [
    "# Entorno de trabajo"
   ]
  },
  {
   "cell_type": "markdown",
   "metadata": {},
   "source": [
    "Puesta en marcha de Python, jupyter notebooks y OpenCV."
   ]
  },
  {
   "cell_type": "markdown",
   "metadata": {
    "tags": []
   },
   "source": [
    "## Material"
   ]
  },
  {
   "cell_type": "markdown",
   "metadata": {},
   "source": [
    "Clonamos [el repositorio](https://github.com/albertoruiz/umucv) con el material de la asignatura:\n",
    "\n",
    "    git clone https://github.com/albertoruiz/umucv.git\n",
    "    \n",
    "En días sucesivos lo iremos actualizando con\n",
    "\n",
    "    git pull\n",
    "    \n",
    "Otra posibilidad es descargar solo [la versión más reciente](https://github.com/albertoruiz/umucv/archive/master.zip):\n",
    "\n",
    "    wget https://github.com/albertoruiz/umucv/archive/master.zip\n",
    "    unzip master.zip"
   ]
  },
  {
   "cell_type": "markdown",
   "metadata": {},
   "source": [
    "## Python"
   ]
  },
  {
   "cell_type": "markdown",
   "metadata": {},
   "source": [
    "Trabajaremos con la versión 3.11 de python y los paquetes indicados en los archivos `requirements_*.txt`. (Al principio de la asigntura solo necesitaremos `requirements_0.txt`.)"
   ]
  },
  {
   "cell_type": "markdown",
   "metadata": {},
   "source": [
    "Aunque se puede utilizar cualquier sistema operativo, recomiendo LINUX (de forma nativa o en una máquina virtual), donde todo funcionará \"out of the box\". "
   ]
  },
  {
   "cell_type": "markdown",
   "metadata": {},
   "source": [
    "### Linux"
   ]
  },
  {
   "cell_type": "markdown",
   "metadata": {},
   "source": [
    "Anteriormente hemos utilizado la distribución *anaconda*, pero ahora mi recomendación es [pyenv](https://github.com/pyenv/pyenv)."
   ]
  },
  {
   "cell_type": "markdown",
   "metadata": {},
   "source": [
    "#### Debian / Ubuntu"
   ]
  },
  {
   "cell_type": "markdown",
   "metadata": {},
   "source": [
    "1) Instalar pyenv:\n",
    "    1) Instalar paquetes necesarios:\n",
    "\n",
    "  \n",
    "       `sudo apt update; sudo apt install build-essential libssl-dev zlib1g-dev libbz2-dev libreadline-dev libsqlite3-dev curl git libncursesw5-dev xz-utils tk-dev libxml2-dev libxmlsec1-dev libffi-dev liblzma-dev`\n",
    "\n",
    "    3) Instalar el programa:\n",
    "       \n",
    "       `curl -fsSL https://pyenv.run | bash`\n",
    "\n",
    "    4) Añadir a `.bashrc` \n",
    "              \n",
    "       `export PYENV_ROOT=\"$HOME/.pyenv\"`<br>\n",
    "       `export PATH=\"$PYENV_ROOT/bin:$PATH\"`<br>\n",
    "       `eval \"$(pyenv init --path)\"`<br>\n",
    "       `eval \"$(pyenv init -)\"`<br>\n",
    "       `eval \"$(pyenv virtualenv-init -)\"`\n",
    "            \n",
    "\n",
    "    6) En un nuevo terminal comprobar que está funcionando: `pyenv versions`\n",
    "  \n",
    "       \n",
    "3) Instalar python 3.11: `pyenv install 3.11`\n",
    "4) Crear un entorno virtual para la asignatura: `pyenv virtualenv 3.11.11 via`\n",
    "5) Activar el entorno globalmente: `pyenv global via` (o solo en el subdirectorio del repositorio: `pyenv local via`), y verificar en un nuevo terminal `pyenv versions`.\n",
    "6) Instalar los paquetes necesarios: `pip install -r requirements_0.txt`\n",
    "7) Instalar paquetes extra: `pip install -r requirements_gl.txt`"
   ]
  },
  {
   "cell_type": "markdown",
   "metadata": {},
   "source": [
    "Con esto podemos empezar a trabajar. Más adelante instalaremos otros paquetes."
   ]
  },
  {
   "cell_type": "markdown",
   "metadata": {},
   "source": [
    "Una opción interesante es instalar el sistema en un pendrive de modo que se pueda utilizar inmediatamente en cualquier ordenador (con linux) sin necesidad de instalar nada. Si estás interesado en esta solución consulta los detalles al profesor."
   ]
  },
  {
   "cell_type": "markdown",
   "metadata": {},
   "source": [
    "#### Fedora"
   ]
  },
  {
   "cell_type": "markdown",
   "metadata": {},
   "source": [
    "Las instrucciones de instalación están en el notebook [fedora.ipynb](https://github.com/albertoruiz/umucv/blob/master/notebooks/fedora.ipynb) realizado por vuestro compañero José Martínez Martínez."
   ]
  },
  {
   "cell_type": "markdown",
   "metadata": {},
   "source": [
    "### WINDOWS"
   ]
  },
  {
   "cell_type": "markdown",
   "metadata": {},
   "source": [
    "Hay una versión de [pyenv para windows](https://github.com/pyenv-win/pyenv-win) que sería interesante probar. En cursos anteriores hemos trabajado con [anaconda](https://www.anaconda.com/download).\n",
    "\n",
    "En anaconda prompt nos cambiamos al subdirectorio de la asignatura y ejecutamos\n",
    "    \n",
    "    cd ubicacion/del/repositorio\n",
    "    python -m pip install mediapipe\n",
    "    conda install -c conda-forge dlib\n",
    "    python -m pip install package/\n",
    "    python -m pip install pyqtgraph pyopengl PySide6 PyQt5"
   ]
  },
  {
   "cell_type": "markdown",
   "metadata": {},
   "source": [
    "Para comprobar que la instalación es correcta bajamos la subdirectorio de ejemplos y ejecutamos algunos programa de prueba:\n",
    "\n",
    "    cd code\n",
    "    python webcam.py\n",
    "    python stream.py\n",
    "    python stream.py --dev=../images/rot4.mjpg\n",
    "    python surface.py\n",
    "    "
   ]
  },
  {
   "cell_type": "markdown",
   "metadata": {},
   "source": [
    "Otra posibilidad es utilizar el Subsistema Linux de Windows (WSL), como se explica en el notebook [WSL.ipynb](https://github.com/albertoruiz/umucv/blob/master/notebooks/WSL.ipynb) realizado por vuestro compañero Vladyslav Grechyshkin."
   ]
  },
  {
   "cell_type": "markdown",
   "metadata": {
    "jp-MarkdownHeadingCollapsed": true
   },
   "source": [
    "### MAC\n",
    "\n",
    "Las instrucciones de instalación para Mac de la serie M se explican en el notebook [MAC-M.ipynb](https://github.com/albertoruiz/umucv/blob/master/notebooks/MAC-M.ipynb) realizado por vuestros compañeros José Luis Mellina Andreu y Carlos Hernán Guirao. Para otros modelos tenemos el notebook [MAC.ipynb](https://github.com/albertoruiz/umucv/blob/master/notebooks/MAC.ipynb) realizado por vuestro compañero Eduardo Salmerón Castaño."
   ]
  },
  {
   "cell_type": "markdown",
   "metadata": {},
   "source": [
    "### COLAB"
   ]
  },
  {
   "cell_type": "markdown",
   "metadata": {},
   "source": [
    "Podemos abrir los notebooks en las máquinas de google, que tienen instalados casi todos los paquetes necesarios. (Hay que descargar cada vez las imágenes de ejemplo y otros archivos auxiliares o leerlos de ubicaciones remotas.) Son especialmente útiles para experimentos de Deep Learning porque permiten utilizar GPUs y TPUs.\n",
    "\n",
    "[https://colab.research.google.com/github/albertoruiz/umucv/blob/master/notebooks/VIA.ipynb](https://colab.research.google.com/github/albertoruiz/umucv/blob/master/notebooks/VIA.ipynb)"
   ]
  },
  {
   "cell_type": "markdown",
   "metadata": {},
   "source": [
    "### MARIMO"
   ]
  },
  {
   "cell_type": "markdown",
   "metadata": {},
   "source": [
    "Los notebooks jupyter también pueden abrirse en el navegador con [marimo](https://marimo.io/), que es una herramienta muy útil para crear una nueva clase de notebooks interactivos y reactivos: las celdas se recalculan automáticamente cuando cambia alguna de las variables de las que depende directa o indirectamente. Estos notebooks pueden ejecutarse también en el navegador (aunque con algunas limitaciones respecto a la ejecución nativa) y en el caso de acceder a un documento de github se monta el subdirectorio del respositorio en el sistema de archivos local del navegador. Por ejemplo:"
   ]
  },
  {
   "cell_type": "markdown",
   "metadata": {},
   "source": [
    "[https://marimo.app/github.com/albertoruiz/umucv/master/notebooks/stacks.ipynb](https://marimo.app/github.com/albertoruiz/umucv/master/notebooks/stacks.ipynb)"
   ]
  },
  {
   "cell_type": "markdown",
   "metadata": {},
   "source": [
    "En nuestro repositorio las carpeta de imágenes está al mismo nivel que los notebooks por lo que no es visible en el navegador, pero podemos acceder con un acceso remoto al repositorio. Para ello, \n",
    "\n",
    "`path = '../images/'`\n",
    "\n",
    "debe sustituirse por\n",
    "\n",
    "`path = 'https://raw.githubusercontent.com/albertoruiz/umucv/master/images/'`"
   ]
  },
  {
   "cell_type": "markdown",
   "metadata": {},
   "source": [
    "## Versiones"
   ]
  },
  {
   "cell_type": "code",
   "execution_count": null,
   "metadata": {},
   "outputs": [],
   "source": [
    "! ../check.py"
   ]
  },
  {
   "cell_type": "markdown",
   "metadata": {},
   "source": [
    "## Prueba rápida"
   ]
  },
  {
   "cell_type": "markdown",
   "metadata": {},
   "source": [
    "En primer lugar importamos las bibliotecas necesarias."
   ]
  },
  {
   "cell_type": "code",
   "execution_count": null,
   "metadata": {
    "hide_input": false
   },
   "outputs": [],
   "source": [
    "import numpy             as np\n",
    "import cv2               as cv\n",
    "import matplotlib.pyplot as plt"
   ]
  },
  {
   "cell_type": "markdown",
   "metadata": {},
   "source": [
    "Para leer imágenes se puede usar `imread` de opencv:"
   ]
  },
  {
   "cell_type": "code",
   "execution_count": null,
   "metadata": {
    "scrolled": true
   },
   "outputs": [],
   "source": [
    "img = cv.imread('../images/coins.png')\n",
    "print(type(img))\n",
    "print(img.shape)\n",
    "#print(img)"
   ]
  },
  {
   "cell_type": "code",
   "execution_count": null,
   "metadata": {},
   "outputs": [],
   "source": [
    "plt.imshow(img)\n",
    "plt.axis('off');"
   ]
  },
  {
   "cell_type": "markdown",
   "metadata": {},
   "source": [
    "El problema es que intercambia los canales R y B. Es una curiosidad de OpenCV, que encontraremos muchas veces.\n",
    "\n",
    "Para arreglarlo usamos la función que convierte espacios de color."
   ]
  },
  {
   "cell_type": "code",
   "execution_count": null,
   "metadata": {},
   "outputs": [],
   "source": [
    "plt.imshow(cv.cvtColor(img,cv.COLOR_BGR2RGB));"
   ]
  },
  {
   "cell_type": "markdown",
   "metadata": {},
   "source": [
    "También podemos intercambiar los canales aprovechando las posibilidades de indexado de arrays de numpy:"
   ]
  },
  {
   "cell_type": "code",
   "execution_count": null,
   "metadata": {},
   "outputs": [],
   "source": [
    "plt.imshow(img[:50,400:500,[2,1,0]]);"
   ]
  },
  {
   "cell_type": "markdown",
   "metadata": {},
   "source": [
    "Otra posibilidad es usar `imread` de skimage, que además puede leer de url remotas."
   ]
  },
  {
   "cell_type": "code",
   "execution_count": null,
   "metadata": {},
   "outputs": [],
   "source": [
    "from skimage import io\n",
    "\n",
    "path = \"https://github.com/albertoruiz/umucv/raw/master/images/\"\n",
    "\n",
    "view = io.imread(path+\"plate.jpg\")\n",
    "plt.imshow(view);"
   ]
  },
  {
   "cell_type": "code",
   "execution_count": null,
   "metadata": {},
   "outputs": [],
   "source": [
    "plt.imshow(io.imread(\"../images/monty-python1.jpg\"));"
   ]
  },
  {
   "cell_type": "markdown",
   "metadata": {},
   "source": [
    "También tenemos [pillow](https://pillow.readthedocs.io/en/stable/index.html):"
   ]
  },
  {
   "cell_type": "code",
   "execution_count": null,
   "metadata": {},
   "outputs": [],
   "source": [
    "import PIL\n",
    "\n",
    "plt.imshow(np.array(PIL.Image.open(\"../images/coins.png\")));"
   ]
  },
  {
   "cell_type": "markdown",
   "metadata": {},
   "source": [
    "## Programas de ejemplo"
   ]
  },
  {
   "cell_type": "markdown",
   "metadata": {},
   "source": [
    "En las prácticas normalmente trabajaremos con programas interactivos que trabajan con imágenes en vivo. Vamos a comprobar que funcionan correctamente."
   ]
  },
  {
   "cell_type": "markdown",
   "metadata": {},
   "source": [
    "En un terminal:\n",
    "\n",
    "    cd path/to/umucv/code\n",
    "    \n",
    "    ./stream.py --dev=../images/rot4.mjpg\n",
    "\n",
    "Si tienes una webcam conectada:\n",
    "\n",
    "    ./stream.py\n",
    "\n",
    "    ./surface.py\n",
    "\n",
    "    ./facemesh.py\n",
    "\n",
    "Otros ejemplos:\n",
    "\n",
    "    cd pose\n",
    "    ./pose3D.py      --dev=../../images/rot4.mjpg\n",
    "    ./pose_opengl.py --dev=../../images/rot4.mjpg\n",
    "    cd ..\n",
    "    \n",
    "    cd ../data\n",
    "    ./get.sh\n",
    "    cd  ../code/hog\n",
    "    ./facelandmarks.py"
   ]
  },
  {
   "cell_type": "markdown",
   "metadata": {},
   "source": [
    "Si alguno de estos ejemplos no funciona el día de la instalación no te preocupes, tendremos tiempo de instalar los paquetes necesarios más adelante.\n",
    "\n",
    "Lo importante al principio de la asignatura es que funcione el ejemplo `stream.py`."
   ]
  }
 ],
 "metadata": {
  "hide_input": false,
  "kernelspec": {
   "display_name": "Python 3 (ipykernel)",
   "language": "python",
   "name": "python3"
  },
  "language_info": {
   "codemirror_mode": {
    "name": "ipython",
    "version": 3
   },
   "file_extension": ".py",
   "mimetype": "text/x-python",
   "name": "python",
   "nbconvert_exporter": "python",
   "pygments_lexer": "ipython3",
   "version": "3.11.11"
  },
  "varInspector": {
   "cols": {
    "lenName": 16,
    "lenType": 16,
    "lenVar": 40
   },
   "kernels_config": {
    "python": {
     "delete_cmd_postfix": "",
     "delete_cmd_prefix": "del ",
     "library": "var_list.py",
     "varRefreshCmd": "print(var_dic_list())"
    },
    "r": {
     "delete_cmd_postfix": ") ",
     "delete_cmd_prefix": "rm(",
     "library": "var_list.r",
     "varRefreshCmd": "cat(var_dic_list()) "
    }
   },
   "types_to_exclude": [
    "module",
    "function",
    "builtin_function_or_method",
    "instance",
    "_Feature"
   ],
   "window_display": false
  }
 },
 "nbformat": 4,
 "nbformat_minor": 4
}

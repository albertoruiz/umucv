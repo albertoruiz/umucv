{
 "cells": [
  {
   "cell_type": "markdown",
   "metadata": {
    "id": "zSNhlBKmFCMY"
   },
   "source": [
    "# Machine Learning"
   ]
  },
  {
   "cell_type": "markdown",
   "metadata": {},
   "source": [
    "[The bitter lesson](http://incompleteideas.net/IncIdeas/BitterLesson.html)"
   ]
  },
  {
   "cell_type": "markdown",
   "metadata": {
    "id": "CMJkCovUEo9Y"
   },
   "source": [
    "Las aplicaciones de percepción artificial más interesantes trabajan con datos sensoriales que tienen una enorme variabilidad. Pensemos, por ejemplo, en los innumerables cambios en el array de pixels de la foto de una misma persona al cambiar de posición, de iluminación, la expresión de la cara, etc. No es factible diseñar un algoritmo o fórmula matemática para el reconocimiento facial de identidad. La forma más práctica de abordar estas situaciones es mediante el ajuste empírico de un modelo genérico de asociación entrada/salida con un conjunto representativo de ejemplos resueltos.\n",
    "\n",
    "Este proceso se suele descomponer en dos etapas. Primero se transforman los datos crudos en *feature vectors* que un experto humano considera útiles para cada problema concreto. Después se construye automáticamente un clasificador mediante alguna técnica que analiza la distribución estadística de estos vectores y produce una regla de decisión que optimiza un cierto criterio de calidad.\n",
    "\n",
    "Desde muy temprano en la historia de la computación se propusieron métodos para unir ambas etapas y realizar el proceso completo de aprendizaje de forma automática, pero no había máquinas suficientemente potentes para abordar problemas realistas. Finalmente, a mediados de los años 10 de este siglo la enorme potencia de cálculo de las GPU y las bases de datos masivas recolectadas de internet hicieron posible métodos de aprendizaje muy satisfactorios (\"*deep learning*\") que clasifican directamente los datos crudos, obteniendo *features* de forma automática."
   ]
  },
  {
   "cell_type": "markdown",
   "metadata": {
    "id": "mB9hgU_EEo9Z"
   },
   "source": [
    "Este notebook contiene un caso de estudio para ilustrar los aspectos más básicos de machine learning para visión artificial.\n",
    "\n",
    "Vamos a construir un clasificador de dígitos manuscritos (10 categorías, del cero al nueve). El objetivo es tomar imágenes en vivo con la webcam y clasificar las manchas encontradas. En la sesión práctica conseguiremos algo como lo siguiente:\n",
    "\n",
    "![digitslive](../images/demos/digitslive.png)\n",
    "\n",
    "Por ahora no nos preocupamos de los falsos positivos que aparecen fuera del papel. En la parte inferior se muestran las manchas candidatas normalizadas en tamaño. El color amarillo más apagado indica poca confianza en la clasificación.\n",
    "\n",
    "Para conseguir esto vamos a seguir los siguientes pasos:\n",
    "\n",
    "- Primero construiremos un clasificador sencillo, eficiente y bastante eficaz. Aunque actualmente hay una tendencia a resolver todos los problemas con la artillería pesada de deep learning, mi recomendación es probar primero una técnica más simple y directa para tener una base sobre la que comparar y valorar las ventajas de métodos más costosos.\n",
    "\n",
    "\n",
    "- El método que probaremos consiste en hacer primero una reducción de dimensión mediante PCA (componentes principales), de manera que las imágenes de los números se convierten en vectores de 20 propiedades. Este método de reducción de dimensión es uno de los más simples.\n",
    "\n",
    "\n",
    "- Después construiremos un clasificador gaussiano, que se basa en aproximar la nubes de puntos de las clases con regiones de forma elíptica (como pelotas de rugby en el espacio de propiedades multidimensional). Es un método también muy sencillo que solo necesita los vectores medios y las matrices de covarianza de cada clase, que miden la localización y la dispersión en el espacio.\n",
    "\n",
    "\n",
    "- Estas operaciones las programaremos con la ayuda del paquete scikit-learn. En realidad es fácil programarlo de cero con numpy pero no nos sobra tiempo y es muy importante conocer este paquete.\n",
    "\n",
    "\n",
    "- Para entrenar la máquina usaremos la base de datos MNIST, que es el \"hello world\" de machine learning.\n",
    "\n",
    "\n",
    "- A continuación programaremos el procedimiento de normalización de la imagen. Tenemos que convertir las manchas negras que encontramos en las imágenes en vivo en el formato muy concreto que espera la máquina de clasificación. Si no hacemos esto bien los resultados serán muy pobres.\n",
    "\n",
    "\n",
    "- En este punto ya podemos poner en marcha una sencilla aplicación de reconocimiento de números manuscritos como la del pantallazo anterior.\n",
    "\n",
    "\n",
    "- La máquina que hemos construido tiene una probabilidad de error inferior al 4%, que no está nada mal teniendo en cuenta su gran sencillez. Pero veremos que comete algunos errores que parecen poco justificados. Nos gustaría conseguir un sistema más preciso.\n",
    "\n",
    "\n",
    "- Para ello, vamos a construir primero una red neuronal multicapa tradicional. Para entrenarla de forma eficiente es necesario tener una GPU nvidia relativamente reciente y el software adecuado. Afortunadamente, el servicio online \"colab\" de google permite usar máquinas virtuales con GPU que tienen instalados todos los paquetes necesarios y donde podemos trabajar con notebooks jupyter. Y siempre podemos descargarnos las redes ya entrenadas del servidor de la asignatura, pero merece la pena probar el servicio colab, o poner en marcha nuestra propia GPU si tenemos una con las características adecuadas.\n",
    "\n",
    "\n",
    "- Encontraremos que este tipo de red multicapa consigue más precisión que nuestro sencillo clasificador gaussiano. Para conseguir una mejora todavía más significativa utilizaremos una red convolucional. Además de las las capas de proceso tradicionales, este tipo de arquitectura incluye filtros de imagen (las máscaras de convolución que vimos en una clase anterior) cuyos coeficientes se ajustan automáticamente para resolver la tarea. La arquitectura convolucional, con este tipo de filtros adaptables, junto con etapas de reducción de tamaño y otras heurísticas de optimización supone un verdadero salto cualitativo en la visión artificial. En este problema de juguete se consigue una precisión que ningún otro método alternativo puede igualar, pero lo mismo ocurre en muchos otros problemas realistas.\n",
    "\n",
    "\n",
    "- Para programar los modelos de deep learning usaremos el paquete \"keras\", que es muy potente y fácil de usar. En el siguiente tema vamos a poner en marcha varias demos de deep learning que necesitarán algunos paquetes y versiones concretos. (Estamos preparando una imagen docker que tenga todo lo necesario.)\n",
    "\n",
    "\n",
    "Las secciones marcadas con asterisco (<b>*</b>) tratan temas más avanzados o específicos que no hace falta estudiar en este momento para seguir los pasos anteriores. Podéis saltarlos sin ningún problema. Pero, si os interesan estos temas, cuando tengáis tiempo leed al menos el apartado de \"Regularización\" y \"adversarial examples\"."
   ]
  },
  {
   "cell_type": "markdown",
   "metadata": {
    "heading_collapsed": true,
    "id": "sOD62PEGEo9a"
   },
   "source": [
    "## scikit-learn"
   ]
  },
  {
   "cell_type": "markdown",
   "metadata": {
    "hidden": true,
    "id": "vXsxRR4tEo9b"
   },
   "source": [
    "Algunos algoritmos sencillos se podrían programar de cero si tuviéramos un poco más de tiempo. En nuestro caso es preferible practicar con la excelente biblioteca [scikit-learn](http://scikit-learn.org/stable/).\n",
    "\n",
    "Es muy sencilla de usar. Por ejemplo, para entrenar un árbol de decisión con el clásico problema de clasificación de flores [IRIS](https://en.wikipedia.org/wiki/Iris_flower_data_set), se hace lo siguiente:"
   ]
  },
  {
   "cell_type": "code",
   "execution_count": null,
   "metadata": {
    "hidden": true,
    "id": "0mvIEdD8Eo9c"
   },
   "outputs": [],
   "source": [
    "from sklearn import datasets\n",
    "\n",
    "dataset = datasets.load_iris()"
   ]
  },
  {
   "cell_type": "code",
   "execution_count": null,
   "metadata": {
    "hidden": true,
    "id": "Oy31K9MrEo9e"
   },
   "outputs": [],
   "source": [
    "# dataset.keys()"
   ]
  },
  {
   "cell_type": "code",
   "execution_count": null,
   "metadata": {
    "hidden": true,
    "id": "ADw1pedtEo9e"
   },
   "outputs": [],
   "source": [
    "# print(dataset['DESCR'])"
   ]
  },
  {
   "cell_type": "markdown",
   "metadata": {
    "hidden": true,
    "id": "Asp18j5_Eo9f"
   },
   "source": [
    "Entrenamos un [árbol de decisión](https://en.wikipedia.org/wiki/Decision_tree_learning) con una parte de los ejemplos, reservando el resto para evaluar su calidad."
   ]
  },
  {
   "cell_type": "code",
   "execution_count": null,
   "metadata": {
    "hidden": true,
    "id": "VB4B6K5tEo9g"
   },
   "outputs": [],
   "source": [
    "from sklearn.tree import DecisionTreeClassifier\n",
    "from sklearn.model_selection import train_test_split\n",
    "\n",
    "(train_data  , test_data, \n",
    " train_labels, test_labels) = train_test_split(dataset.data, dataset.target)\n",
    "\n",
    "model = DecisionTreeClassifier()\n",
    "model.fit(train_data, train_labels)\n",
    "print(model)"
   ]
  },
  {
   "cell_type": "markdown",
   "metadata": {
    "hidden": true,
    "id": "1vLDeE_KEo9h"
   },
   "source": [
    "Ya podemos clasificar casos nuevos:"
   ]
  },
  {
   "cell_type": "code",
   "execution_count": null,
   "metadata": {
    "hidden": true,
    "id": "oNSokvn5Eo9i"
   },
   "outputs": [],
   "source": [
    "model.predict([ [6 , 3 , 3 , 1.5] ])"
   ]
  },
  {
   "cell_type": "markdown",
   "metadata": {
    "hidden": true,
    "id": "A_yR51CeEo9i"
   },
   "source": [
    "Un objeto con ese vector de atributos se clasifica dentro de la clase 1, que corresponde a la flor *Iris- Versicolour*."
   ]
  },
  {
   "cell_type": "markdown",
   "metadata": {
    "hidden": true,
    "id": "K-dtQ3OxEo9j"
   },
   "source": [
    "Finalmente, evaluamos la calidad del modelo obtenido con los ejemplos de test."
   ]
  },
  {
   "cell_type": "code",
   "execution_count": null,
   "metadata": {
    "hidden": true,
    "id": "gYVZfTg6Eo9j"
   },
   "outputs": [],
   "source": [
    "from sklearn import metrics\n",
    "\n",
    "expected = test_labels\n",
    "predicted = model.predict(test_data)\n",
    "\n",
    "print(metrics.classification_report(expected, predicted))\n",
    "print(metrics.confusion_matrix(expected, predicted))"
   ]
  },
  {
   "cell_type": "markdown",
   "metadata": {
    "hidden": true,
    "id": "jLSgq92UEo9j"
   },
   "source": [
    "El resultado depende de la partición aleatoria de los ejemplos, pero normalmente se clasifican casi todos bien. En realidad es un problema de clasificación muy sencillo."
   ]
  },
  {
   "cell_type": "markdown",
   "metadata": {
    "heading_collapsed": true,
    "id": "fvUPOj1YEo9k"
   },
   "source": [
    "## MNIST dataset"
   ]
  },
  {
   "cell_type": "markdown",
   "metadata": {
    "hidden": true,
    "id": "NJFQs__uEo9k"
   },
   "source": [
    "Nuestro objetivo es construir un sistema que reconozca números manuscritos en imágenes tomadas con una cámara. Para ello vamos a aprovechar la conocida base de datos MNIST:\n",
    "\n",
    "http://yann.lecun.com/exdb/mnist/\n",
    "\n",
    "Es el *hello world* de *machine learning*."
   ]
  },
  {
   "cell_type": "code",
   "execution_count": null,
   "metadata": {
    "hidden": true,
    "id": "Pe4Kbbm9Eo9k"
   },
   "outputs": [],
   "source": [
    "import matplotlib.pyplot as plt\n",
    "import numpy             as np\n",
    "import numpy.linalg      as la"
   ]
  },
  {
   "attachments": {},
   "cell_type": "markdown",
   "metadata": {
    "hidden": true,
    "id": "VNJ-LDtqEo9l"
   },
   "source": [
    "Está disponible en el paquete [keras](https://keras.io/) una de las principales herramientas de Deep Learning. (Más adelante entrenaremos una red neuronal.)\n",
    "\n",
    "Si no tienes GPU puedes [ejecutar este notebook en COLAB](https://colab.research.google.com/github/AlbertoRuiz/umucv/blob/master/notebooks/machine-learning.ipynb)."
   ]
  },
  {
   "cell_type": "code",
   "execution_count": null,
   "metadata": {
    "id": "GywThMXbEo9l"
   },
   "outputs": [],
   "source": [
    "# !pip install keras"
   ]
  },
  {
   "cell_type": "code",
   "execution_count": null,
   "metadata": {
    "hidden": true,
    "id": "L8clZ9I7Eo9m"
   },
   "outputs": [],
   "source": [
    "import os\n",
    "os.environ[\"KERAS_BACKEND\"] = \"torch\""
   ]
  },
  {
   "cell_type": "code",
   "execution_count": null,
   "metadata": {
    "hidden": true,
    "id": "vukV6A9HEo9m"
   },
   "outputs": [],
   "source": [
    "import keras\n",
    "\n",
    "(x_train, y_train), (x_test, y_test) = keras.datasets.mnist.load_data()\n",
    "print(x_train.shape, y_train.shape)"
   ]
  },
  {
   "cell_type": "code",
   "execution_count": null,
   "metadata": {
    "hidden": true,
    "id": "vukV6A9HEo9m"
   },
   "outputs": [],
   "source": [
    "# Scale images to the [0, 1] range\n",
    "x_train = x_train.astype(\"float32\") / 255\n",
    "x_test = x_test.astype(\"float32\") / 255\n",
    "# Make sure images have shape (28, 28, 1)\n",
    "x_train = np.expand_dims(x_train, -1)\n",
    "x_test = np.expand_dims(x_test, -1)\n",
    "print(\"x_train shape:\", x_train.shape)\n",
    "print(x_train.shape[0], \"train samples\")\n",
    "print(x_test.shape[0], \"test samples\")"
   ]
  },
  {
   "cell_type": "markdown",
   "metadata": {
    "hidden": true,
    "id": "4nf2-1JoEo9m"
   },
   "source": [
    "Tenemos objetos de 10 clases (los dígitos del cero al 9) que son imágenes pequeñitas de 28x28 pixels x 256 niveles de gris. Los convertimos en vectores de 784 números entre 0 y 1. Hay 60K ejemplos de entrenamiento y 10K de evaluación."
   ]
  },
  {
   "cell_type": "markdown",
   "metadata": {
    "hidden": true,
    "id": "V9oRimFGEo9m"
   },
   "source": [
    "Veamos qué pinta tiene un ejemplo de entrenamiento cualquiera."
   ]
  },
  {
   "cell_type": "code",
   "execution_count": null,
   "metadata": {
    "hidden": true,
    "id": "7N90mBx2Eo9m"
   },
   "outputs": [],
   "source": [
    "def shdig(v):\n",
    "    if v.shape != (28,28):\n",
    "        v = v.reshape(28,28)\n",
    "    plt.imshow(1-v, 'gray', vmin=0, vmax=1, interpolation=\"nearest\");"
   ]
  },
  {
   "cell_type": "code",
   "execution_count": null,
   "metadata": {
    "hidden": true,
    "id": "NYOhjehqEo9n"
   },
   "outputs": [],
   "source": [
    "shdig(x_train[5005])"
   ]
  },
  {
   "cell_type": "markdown",
   "metadata": {
    "hidden": true,
    "id": "ZOW2rLMtEo9o"
   },
   "source": [
    "Definimos una utilidad para ver un conjunto grande de ejemplos."
   ]
  },
  {
   "cell_type": "code",
   "execution_count": null,
   "metadata": {
    "hidden": true,
    "id": "cdPYa08uEo9o"
   },
   "outputs": [],
   "source": [
    "def muestrario(imgs,n=10):\n",
    "    N = len(imgs)\n",
    "    c = N // n\n",
    "    r = N %  n\n",
    "    L = imgs + [np.zeros_like(imgs[0]) for k in range(n-r)]\n",
    "    return np.vstack([ np.hstack([ x for x in L[n*k : n*(k+1)]]) for k in range(c if n*c==N else c+1)])"
   ]
  },
  {
   "cell_type": "code",
   "execution_count": null,
   "metadata": {
    "hidden": true,
    "id": "tvHjDkfEEo9o"
   },
   "outputs": [],
   "source": [
    "plt.figure(figsize=(8,8))\n",
    "plt.imshow(-muestrario([x.reshape(28,28) for x in x_train[:100]]),'gray');\n",
    "plt.axis('off');"
   ]
  },
  {
   "cell_type": "markdown",
   "metadata": {
    "hidden": true,
    "id": "vgL7ZmwnEo9p"
   },
   "source": [
    "Algunos son muy raros. Por ejemplo, se supone que lo siguiente es un siete:"
   ]
  },
  {
   "cell_type": "code",
   "execution_count": null,
   "metadata": {
    "hidden": true,
    "id": "nVkxGxOaEo9p"
   },
   "outputs": [],
   "source": [
    "shdig(x_train[5068])\n",
    "print(y_train[5068])"
   ]
  },
  {
   "cell_type": "markdown",
   "metadata": {
    "heading_collapsed": true,
    "id": "4RNeQxlgEo9p"
   },
   "source": [
    "## Reducción de dimensión"
   ]
  },
  {
   "cell_type": "markdown",
   "metadata": {
    "hidden": true,
    "id": "m1yOrdKyEo9p"
   },
   "source": [
    "Aunque la imagen es pequeñita tiene un número de atributos relativamente grande (28x28=784). Mediante el [análisis de componentes principales (PCA)](https://en.wikipedia.org/wiki/Principal_component_analysis) esa dimensión se puede reducir sin demasiada pérdida de información."
   ]
  },
  {
   "cell_type": "code",
   "execution_count": null,
   "metadata": {
    "hidden": true,
    "id": "qZBO0jA1Eo9p"
   },
   "outputs": [],
   "source": [
    "from sklearn import decomposition\n",
    "\n",
    "xl = x_train.reshape(-1,784)\n",
    "xt = x_test.reshape(-1,784)\n",
    "cl = y_train\n",
    "ct = y_test\n",
    "\n",
    "pca = decomposition.PCA(n_components=20)\n",
    "pca.fit(xl)\n",
    "comprime    = pca.transform\n",
    "descomprime = pca.inverse_transform\n",
    "\n",
    "tr = comprime(xl)"
   ]
  },
  {
   "cell_type": "code",
   "execution_count": null,
   "metadata": {
    "hidden": true,
    "id": "D-z-Aix5Eo9p"
   },
   "outputs": [],
   "source": [
    "tr.shape"
   ]
  },
  {
   "cell_type": "markdown",
   "metadata": {
    "hidden": true,
    "id": "hQAz7g0QEo9p"
   },
   "source": [
    "Por ejemplo, el \"8\" anterior:"
   ]
  },
  {
   "cell_type": "code",
   "execution_count": null,
   "metadata": {
    "hidden": true,
    "id": "n8xn6OMZEo9p"
   },
   "outputs": [],
   "source": [
    "xl[5005]"
   ]
  },
  {
   "cell_type": "markdown",
   "metadata": {
    "hidden": true,
    "id": "rjgvG7-IEo9q"
   },
   "source": [
    "Queda reducido al siguiente vector de 20 atributos:"
   ]
  },
  {
   "cell_type": "code",
   "execution_count": null,
   "metadata": {
    "hidden": true,
    "id": "gTPVvgtIEo9q"
   },
   "outputs": [],
   "source": [
    "tr[5005]"
   ]
  },
  {
   "cell_type": "markdown",
   "metadata": {
    "heading_collapsed": true,
    "hidden": true,
    "id": "LhvfNlP-Eo9q"
   },
   "source": [
    "### Proyección 2D"
   ]
  },
  {
   "cell_type": "markdown",
   "metadata": {
    "hidden": true,
    "id": "r7l6OzgMEo9r"
   },
   "source": [
    "Vamos a dibujar los digitos en el espacio de las dos componentes principales de la distribución. En azul destacamos los \"1\", y en gris el resto. El 8 anterior es el punto rojo."
   ]
  },
  {
   "cell_type": "code",
   "execution_count": null,
   "metadata": {
    "hidden": true,
    "id": "UbmUJDsCEo9r"
   },
   "outputs": [],
   "source": [
    "plt.figure(figsize=(6,6))\n",
    "plt.plot(*tr[cl!=1][:,[0,1]].T,'.',markersize=1,alpha=0.1,color='gray');\n",
    "plt.plot(*tr[cl==1][:,[0,1]].T,'.',markersize=1,alpha=0.2,color='blue');\n",
    "plt.plot(*tr[5005,[0,1]].T,'.',markersize=3,color='red');\n",
    "plt.xlabel('PCA-1'); plt.ylabel('PCA-2'); plt.title('unos');"
   ]
  },
  {
   "cell_type": "markdown",
   "metadata": {
    "hidden": true,
    "id": "DUzotp2oEo9r"
   },
   "source": [
    "Veamos ahora por ejemplo los \"3\" y los \"8\"."
   ]
  },
  {
   "cell_type": "code",
   "execution_count": null,
   "metadata": {
    "hidden": true,
    "id": "SlmwOguREo9s"
   },
   "outputs": [],
   "source": [
    "plt.figure(figsize=(6,6))\n",
    "plt.plot(*tr[(cl!=3) & (cl!=8)][:,[0,1]].T,'.',markersize=1,alpha=0.1,color='gray');\n",
    "plt.plot(*tr[cl==3][:,[0,1]].T,'.',markersize=1,alpha=0.2,color='blue');\n",
    "plt.plot(*tr[cl==8][:,[0,1]].T,'.',markersize=1,alpha=0.2,color='red');\n",
    "plt.xlabel('PCA-1'); plt.ylabel('PCA-2'); plt.title('treses y ochos');"
   ]
  },
  {
   "cell_type": "markdown",
   "metadata": {
    "hidden": true,
    "id": "ZUXDHZg6Eo9s"
   },
   "source": [
    "Evidentemente hay mucho solapamiento, pero incluso en esta reducción de dimensión tan brutal (nos quedamos con solo dos parámetros para describir la forma del dígito) se aprecia una cierta estructura."
   ]
  },
  {
   "cell_type": "markdown",
   "metadata": {
    "heading_collapsed": true,
    "hidden": true,
    "id": "PpeQjjehEo9s"
   },
   "source": [
    "### Calidad de la reconstrucción *"
   ]
  },
  {
   "cell_type": "markdown",
   "metadata": {
    "hidden": true,
    "id": "kv2lMSwUEo9t"
   },
   "source": [
    "A partir del vector de dimensión reducida se puede recuperar la imagen original, pero se pierde información. El error de reconstrucción es la varianza de las componentes principales que descartamos."
   ]
  },
  {
   "cell_type": "code",
   "execution_count": null,
   "metadata": {
    "hidden": true,
    "id": "F9ePQpBgEo9t"
   },
   "outputs": [],
   "source": [
    "k = 5002\n",
    "plt.figure(figsize=(8,4))\n",
    "plt.subplot(121)\n",
    "shdig(x_train[k])\n",
    "plt.subplot(122)\n",
    "shdig(descomprime(comprime([xl[k]]))[0].reshape(28,28))"
   ]
  },
  {
   "cell_type": "markdown",
   "metadata": {
    "heading_collapsed": true,
    "hidden": true,
    "id": "gqMFZTvLEo9u"
   },
   "source": [
    "### Modos de variación *"
   ]
  },
  {
   "cell_type": "markdown",
   "metadata": {
    "hidden": true,
    "id": "lvAxohUiEo9u"
   },
   "source": [
    "Las direcciones principales de una población a veces pueden interpretarse como variaciones de determinadas características.\n",
    "\n",
    "Vamos a fijarnos en los treses."
   ]
  },
  {
   "cell_type": "code",
   "execution_count": null,
   "metadata": {
    "hidden": true,
    "id": "6JXnlOKbEo9u"
   },
   "outputs": [],
   "source": [
    "treses = xl[cl==3]\n",
    "print(treses.shape)\n",
    "shdig(treses[0])"
   ]
  },
  {
   "cell_type": "code",
   "execution_count": null,
   "metadata": {
    "hidden": true,
    "id": "aZYVA7BtEo9u"
   },
   "outputs": [],
   "source": [
    "plt.figure(figsize=(8,8))\n",
    "plt.imshow(-muestrario([x.reshape(28,28) for x in treses[:100]]),'gray');\n",
    "plt.axis('off');"
   ]
  },
  {
   "cell_type": "markdown",
   "metadata": {
    "hidden": true,
    "id": "XYscQ-HfEo9v"
   },
   "source": [
    "El valor medio:"
   ]
  },
  {
   "cell_type": "code",
   "execution_count": null,
   "metadata": {
    "hidden": true,
    "id": "74ogOdpxEo9v"
   },
   "outputs": [],
   "source": [
    "M = np.mean(treses,axis=0)\n",
    "shdig(M)"
   ]
  },
  {
   "cell_type": "markdown",
   "metadata": {
    "hidden": true,
    "id": "PV_Smaf6Eo9v"
   },
   "source": [
    "La matriz de covarianza describe la variabilidad de la distribución. Es máxima en las direcciones principales, que pueden representarse como objetos del mismo espacio. Son los \"eigendigits\"."
   ]
  },
  {
   "cell_type": "code",
   "execution_count": null,
   "metadata": {
    "hidden": true,
    "id": "hCUl15z8Eo9v"
   },
   "outputs": [],
   "source": [
    "C = np.cov(treses.T)\n",
    "l,V = np.linalg.eigh(C)\n",
    "V = np.flipud(V.T)"
   ]
  },
  {
   "cell_type": "code",
   "execution_count": null,
   "metadata": {
    "hidden": true,
    "id": "VQPiAeW-Eo9w"
   },
   "outputs": [],
   "source": [
    "plt.figure(figsize=(12,4))\n",
    "plt.imshow(-np.bmat([[ (V[k]).reshape(28,28) for k in range(10)]]),'gray'); plt.axis('off');"
   ]
  },
  {
   "cell_type": "markdown",
   "metadata": {
    "hidden": true,
    "id": "PFHiw8WeEo9w"
   },
   "source": [
    "Cualquier \"tres\" se puede expresar como el tres medio, al que sumamos o restamos una cierta proporción de estos \"modificadores\"."
   ]
  },
  {
   "cell_type": "code",
   "execution_count": null,
   "metadata": {
    "hidden": true,
    "id": "2fsH9cbhEo9w"
   },
   "outputs": [],
   "source": [
    "shdig(M + 3*V[0])"
   ]
  },
  {
   "cell_type": "markdown",
   "metadata": {
    "hidden": true,
    "id": "P07_5PFNEo9x"
   },
   "source": [
    "Recorriendo un rango de valores vemos que la primera dirección principal de la población de treses está relacionada con la inclinación del número."
   ]
  },
  {
   "cell_type": "code",
   "execution_count": null,
   "metadata": {
    "hidden": true,
    "id": "sHFAoqFKEo9x"
   },
   "outputs": [],
   "source": [
    "r = np.linspace(-7,7,11)\n",
    "\n",
    "plt.imshow(np.bmat([[ (M + a*V[0]).reshape(28,28) for a in r]]),'gray');"
   ]
  },
  {
   "cell_type": "markdown",
   "metadata": {
    "hidden": true,
    "id": "yJEJeVrnEo9x"
   },
   "source": [
    "Lo dibujamos un poco mejor:"
   ]
  },
  {
   "cell_type": "code",
   "execution_count": null,
   "metadata": {
    "hidden": true,
    "id": "PZCE03vzEo9y"
   },
   "outputs": [],
   "source": [
    "plt.figure(figsize=(12,4))\n",
    "plt.imshow(1-np.bmat([[ (M + a*V[0]).reshape(28,28) for a in r]]),'gray',vmin=0,vmax=1);\n",
    "plt.axis('off');"
   ]
  },
  {
   "cell_type": "markdown",
   "metadata": {
    "hidden": true,
    "id": "XSWXn5EFEo9y"
   },
   "source": [
    "La segunda dirección principal tiene algo que ver con el tamaño de la curva inferior."
   ]
  },
  {
   "cell_type": "code",
   "execution_count": null,
   "metadata": {
    "hidden": true,
    "id": "eRxM_fS5Eo9y"
   },
   "outputs": [],
   "source": [
    "plt.figure(figsize=(12,4))\n",
    "plt.imshow(1-np.bmat([[ (M + a*V[1]).reshape(28,28) for a in r]]),'gray',vmin=0,vmax=1);\n",
    "plt.axis('off');"
   ]
  },
  {
   "cell_type": "markdown",
   "metadata": {
    "hidden": true,
    "id": "PKxnvrbfEo9z"
   },
   "source": [
    "Podemos representar las variaciones en las dos direcciones. El tres medio está en el centro."
   ]
  },
  {
   "cell_type": "code",
   "execution_count": null,
   "metadata": {
    "hidden": true,
    "id": "DYeu31RYEo9z"
   },
   "outputs": [],
   "source": [
    "plt.figure(figsize=(8,8))\n",
    "\n",
    "plt.imshow(1-np.bmat([[ (M + a*V[0] + b*V[1]).reshape(28,28) for a in r] for b in r]),'gray',vmin=0,vmax=1);\n",
    "plt.axis('off');"
   ]
  },
  {
   "cell_type": "markdown",
   "metadata": {
    "heading_collapsed": true,
    "id": "zf4tccq0Eo9z"
   },
   "source": [
    "## Clasificador Gaussiano"
   ]
  },
  {
   "cell_type": "markdown",
   "metadata": {
    "hidden": true,
    "id": "bYY0wG6HEo9z"
   },
   "source": [
    "Usamos scikit-learn para construir un clasificador basado clases gaussianas y reducción de dimensión mediante componentes principales (PCA)."
   ]
  },
  {
   "cell_type": "code",
   "execution_count": null,
   "metadata": {
    "hidden": true,
    "id": "D4PyejD0Eo90"
   },
   "outputs": [],
   "source": [
    "from sklearn import random_projection, decomposition, naive_bayes, discriminant_analysis\n",
    "from sklearn.metrics import confusion_matrix\n",
    "\n",
    "# una utilidad para calcular la \"accuracy\" (probabilidad de acierto)\n",
    "def acc(maq,x,y):\n",
    "    return 100*(y == maq.predict(x)).sum() / len(y)"
   ]
  },
  {
   "cell_type": "markdown",
   "metadata": {
    "hidden": true,
    "id": "6bY5_T__Eo90"
   },
   "source": [
    "Preparamos la operación de reducción de dimensión."
   ]
  },
  {
   "cell_type": "code",
   "execution_count": null,
   "metadata": {
    "hidden": true,
    "id": "ib7aUGmtEo90"
   },
   "outputs": [],
   "source": [
    "transformer = decomposition.PCA(n_components=40).fit(xl)"
   ]
  },
  {
   "cell_type": "code",
   "execution_count": null,
   "metadata": {
    "hidden": true,
    "id": "KwEQzdsQEo90"
   },
   "outputs": [],
   "source": [
    "# esta es otra alternativa. Tiene cierto interés porque obtiene propiedades al azar sin analizar la distribución\n",
    "# transformer = random_projection.GaussianRandomProjection(n_components=60).fit(xl)"
   ]
  },
  {
   "cell_type": "markdown",
   "metadata": {
    "hidden": true,
    "id": "rxGFelVPEo91"
   },
   "source": [
    "Y reducimos los datos de entrenamiento y test."
   ]
  },
  {
   "cell_type": "code",
   "execution_count": null,
   "metadata": {
    "hidden": true,
    "id": "y2dzgIHEEo91"
   },
   "outputs": [],
   "source": [
    "xrl = transformer.transform(xl)\n",
    "xrt = transformer.transform(xt)"
   ]
  },
  {
   "cell_type": "markdown",
   "metadata": {
    "hidden": true,
    "id": "WmxrNtWdEo91"
   },
   "source": [
    "Vamos a probar primero lo que consigue un clasificador \"naive Bayes\", que trabaja con clases gaussianas pero suponiendo que los atributos son independientes. Tiene más de un 12% de errores."
   ]
  },
  {
   "cell_type": "code",
   "execution_count": null,
   "metadata": {
    "hidden": true,
    "id": "8kru2fMUEo91"
   },
   "outputs": [],
   "source": [
    "gnb = naive_bayes.GaussianNB()"
   ]
  },
  {
   "cell_type": "code",
   "execution_count": null,
   "metadata": {
    "hidden": true,
    "id": "lzHv0uZOEo91"
   },
   "outputs": [],
   "source": [
    "maq = gnb.fit(xrl, cl)"
   ]
  },
  {
   "cell_type": "code",
   "execution_count": null,
   "metadata": {
    "hidden": true,
    "id": "KFiEOvI1Eo92"
   },
   "outputs": [],
   "source": [
    "acc(maq,xrt,ct)"
   ]
  },
  {
   "cell_type": "markdown",
   "metadata": {
    "hidden": true,
    "id": "eRnfOUJvEo92"
   },
   "source": [
    "El clasificador gaussiano completo tiene menos de 4%."
   ]
  },
  {
   "cell_type": "code",
   "execution_count": null,
   "metadata": {
    "hidden": true,
    "id": "kNnYQCESEo92"
   },
   "outputs": [],
   "source": [
    "maq = discriminant_analysis.QuadraticDiscriminantAnalysis(store_covariance=True).fit(xrl,cl)"
   ]
  },
  {
   "cell_type": "code",
   "execution_count": null,
   "metadata": {
    "hidden": true,
    "id": "pSp6BjNqEo93"
   },
   "outputs": [],
   "source": [
    "acc(maq,xrt,ct)"
   ]
  },
  {
   "cell_type": "code",
   "execution_count": null,
   "metadata": {
    "hidden": true,
    "id": "IDX7tg6JEo93"
   },
   "outputs": [],
   "source": [
    "confusion_matrix(ct, maq.predict(xrt))"
   ]
  },
  {
   "cell_type": "markdown",
   "metadata": {
    "hidden": true,
    "id": "5latet6bEo93"
   },
   "source": [
    "Podemos clasificar cualquier imagen en el formato 28x28 adecuado:"
   ]
  },
  {
   "cell_type": "code",
   "execution_count": null,
   "metadata": {
    "hidden": true,
    "id": "haRt7m26Eo93"
   },
   "outputs": [],
   "source": [
    "# un ejemplo cualquiera del conjunto de test\n",
    "dig = xt[1234]\n",
    "\n",
    "shdig(dig)\n",
    "\n",
    "maq.predict(transformer.transform([dig]))"
   ]
  },
  {
   "cell_type": "markdown",
   "metadata": {
    "hidden": true,
    "id": "706-ev-JEo93"
   },
   "source": [
    "(Lo metemos en una lista porque la máquina clasifica conjuntos de vectores de características como filas de una matriz.)"
   ]
  },
  {
   "cell_type": "markdown",
   "metadata": {
    "hidden": true,
    "id": "a9OWvu8mEo94"
   },
   "source": [
    "Es interesante ver el aspecto que tienen los ejemplos mal clasificados."
   ]
  },
  {
   "cell_type": "code",
   "execution_count": null,
   "metadata": {
    "hidden": true,
    "id": "raBz3AcKEo94"
   },
   "outputs": [],
   "source": [
    "fallos = np.where((maq.predict(xrt)!=ct) & (ct==2))[0]\n",
    "xf = xt[fallos]\n",
    "len(fallos)"
   ]
  },
  {
   "cell_type": "markdown",
   "metadata": {
    "hidden": true,
    "id": "e9V9lZ-WEo94"
   },
   "source": [
    "Estos son los doses que se clasifican mal:"
   ]
  },
  {
   "cell_type": "code",
   "execution_count": null,
   "metadata": {
    "hidden": true,
    "id": "tp57GTx0Eo95"
   },
   "outputs": [],
   "source": [
    "plt.figure(figsize=(12,12))\n",
    "plt.imshow(-muestrario([x.reshape(28,28) for x in xf],n=20),'gray');\n",
    "plt.axis('off');"
   ]
  },
  {
   "cell_type": "markdown",
   "metadata": {
    "hidden": true,
    "id": "u1heVmn5Eo95"
   },
   "source": [
    "Y estos son todos los fallos:"
   ]
  },
  {
   "cell_type": "code",
   "execution_count": null,
   "metadata": {
    "hidden": true,
    "id": "X3xdHVAoEo95"
   },
   "outputs": [],
   "source": [
    "fallos = np.where((maq.predict(xrt)!=ct))[0]\n",
    "xf = xt[fallos]\n",
    "len(fallos)"
   ]
  },
  {
   "cell_type": "code",
   "execution_count": null,
   "metadata": {
    "hidden": true,
    "id": "j0tvQUrUEo95"
   },
   "outputs": [],
   "source": [
    "plt.figure(figsize=(12,12))\n",
    "plt.imshow(-muestrario([x.reshape(28,28) for x in xf],n=20),'gray');\n",
    "plt.axis('off');"
   ]
  },
  {
   "cell_type": "markdown",
   "metadata": {
    "heading_collapsed": true,
    "id": "vdq2pDbPEo96"
   },
   "source": [
    "## Imagen real"
   ]
  },
  {
   "cell_type": "markdown",
   "metadata": {
    "hidden": true,
    "id": "0re0TCRZEo96"
   },
   "source": [
    "Para que los clasificadores funcionen bien con imágenes reales es necesario [normalizarlas](http://yann.lecun.com/exdb/mnist/) ([otra](http://www.dia.fi.upm.es/~lbaumela/PracRF11/MNIST.html)) para que tengan el mismo tamaño y posición que los ejemplos de entrenamiento."
   ]
  },
  {
   "cell_type": "code",
   "execution_count": null,
   "metadata": {},
   "outputs": [],
   "source": [
    "import cv2 as cv\n",
    "\n",
    "# puedes probar con tus propias fotos\n",
    "# digits = cv.cvtColor(cv.imread('../images/mydigits.png'),cv.COLOR_BGR2RGB);\n",
    "\n",
    "\n",
    "from skimage.io import imread\n",
    "\n",
    "digits = imread('../images/mydigits.png')\n",
    "\n",
    "plt.imshow(digits);"
   ]
  },
  {
   "cell_type": "markdown",
   "metadata": {
    "hidden": true,
    "id": "XsqxOolREo97"
   },
   "source": [
    "Primero umbralizamos."
   ]
  },
  {
   "cell_type": "code",
   "execution_count": null,
   "metadata": {
    "hidden": true,
    "id": "yOOMQwQJEo97"
   },
   "outputs": [],
   "source": [
    "ret, gt = cv.threshold(cv.cvtColor(digits,cv.COLOR_RGB2GRAY),189,255,cv.THRESH_BINARY+cv.THRESH_OTSU)\n",
    "plt.imshow(gt,'gray');"
   ]
  },
  {
   "cell_type": "markdown",
   "metadata": {
    "hidden": true,
    "id": "oeG7zKyrEo98"
   },
   "source": [
    "Las funciones siguientes implementan el proceso de normalización explicado en la página de MNIST."
   ]
  },
  {
   "cell_type": "code",
   "execution_count": null,
   "metadata": {
    "hidden": true,
    "id": "Ul7FEQFyEo98"
   },
   "outputs": [],
   "source": [
    "def center(p):\n",
    "    r,c = p.shape\n",
    "    rs = np.outer(range(r),np.ones(c))\n",
    "    cs = np.outer(np.ones(r),range(c))\n",
    "    s = np.sum(p)\n",
    "    my  = np.sum(p*rs) / s\n",
    "    mx  = np.sum(p*cs) / s\n",
    "    return mx,my\n",
    "\n",
    "def boundingBox(c):\n",
    "    (x1, y1), (x2, y2) = c.min(0), c.max(0)\n",
    "    return (x1, y1), (x2, y2)\n",
    "\n",
    "# La figura se escala a un tamaño 20x20\n",
    "# respetando la proporción de tamaño\n",
    "# El resultado se mete en una caja 28x28 de\n",
    "# modo que la media quede en el centro\n",
    "# El resultado se reescala con pixels entre cero y uno\n",
    "def adaptsize(x):\n",
    "    h,w = x.shape\n",
    "    s = max(h,w)\n",
    "    h2 = (s-h)//2\n",
    "    w2 = (s-w)//2\n",
    "    y = x\n",
    "    if w2>0:\n",
    "        z1 = np.zeros([s,w2],np.uint8)\n",
    "        z2 = np.zeros([s,s-w-w2],np.uint8)\n",
    "        y  = np.hstack([z1,x,z2])\n",
    "    if h2>0:\n",
    "        z1 = np.zeros([h2,s],np.uint8)\n",
    "        z2 = np.zeros([s-h-h2,s],np.uint8)\n",
    "        y  = np.vstack([z1,x,z2])\n",
    "    y = cv.resize(y,(20,20))\n",
    "    mx,my = center(y)\n",
    "    H = np.array([[1.,0,4-(mx-9.5)],[0,1,4-(my-9.5)]])\n",
    "    return cv.warpAffine(y,H,(28,28))/255"
   ]
  },
  {
   "cell_type": "markdown",
   "metadata": {
    "hidden": true,
    "id": "Y92lXs_oEo98"
   },
   "source": [
    "Sacamos todos los contornos, los rectángulos que los engloban y adaptamos el tamaño de todas las manchas encontradas."
   ]
  },
  {
   "cell_type": "code",
   "execution_count": null,
   "metadata": {
    "hidden": true,
    "id": "z5izLxdKEo98"
   },
   "outputs": [],
   "source": [
    "contours,_ = cv.findContours(255-gt, cv.RETR_EXTERNAL, cv.CHAIN_APPROX_SIMPLE)[-2:]\n",
    "regions = [ boundingBox(x.reshape(-1,2)) for x in contours ]\n",
    "\n",
    "# invertimos para seleccionar la tinta negra como objeto, y tener 0:papel blanco, 1: tinta.\n",
    "raw = [ 255-gt[y1:y2,x1:x2] for (x1,y1),(x2,y2) in regions if x2-x1 > 10 and y2-y1 > 10]\n",
    "ok = [ adaptsize(x) for x in raw ]"
   ]
  },
  {
   "cell_type": "markdown",
   "metadata": {
    "hidden": true,
    "id": "K-GDxqhSEo98"
   },
   "source": [
    "El resultado es un a lista de imágenes 28x28 del mismo tipo que las que hay en MNIST."
   ]
  },
  {
   "cell_type": "code",
   "execution_count": null,
   "metadata": {
    "hidden": true,
    "id": "rY663EtREo99"
   },
   "outputs": [],
   "source": [
    "plt.imshow(-ok[3],'gray');"
   ]
  },
  {
   "cell_type": "markdown",
   "metadata": {
    "hidden": true,
    "id": "S_1LJiEQEo99"
   },
   "source": [
    "Una vez hecho esto se pueden utilizar con el clasificador:"
   ]
  },
  {
   "cell_type": "code",
   "execution_count": null,
   "metadata": {
    "hidden": true,
    "id": "XBqvaSLxEo99"
   },
   "outputs": [],
   "source": [
    "dig = ok[1].flatten()\n",
    "\n",
    "shdig(dig)\n",
    "\n",
    "maq.predict(transformer.transform(dig.reshape(1,-1)))"
   ]
  },
  {
   "cell_type": "markdown",
   "metadata": {
    "hidden": true,
    "id": "iTXdGZOQEo99"
   },
   "source": [
    "Vamos a clasificar todos los encontrados en la imagen natural:"
   ]
  },
  {
   "cell_type": "code",
   "execution_count": null,
   "metadata": {
    "hidden": true,
    "id": "ot6RavoWEo99"
   },
   "outputs": [],
   "source": [
    "digits = np.array(ok).reshape(-1,28*28)\n",
    "print(digits.shape)\n",
    "\n",
    "plt.imshow(-np.hstack([x.reshape(28,28) for x in ok]),'gray'); plt.axis('off');\n",
    "\n",
    "maq.predict(transformer.transform(digits))"
   ]
  },
  {
   "cell_type": "markdown",
   "metadata": {
    "hidden": true,
    "id": "E0pi_2zIEo9-"
   },
   "source": [
    "No está mal, pero el \"uno\" se confunde con un 4 a pesar de que no tiene una forma muy rara. "
   ]
  },
  {
   "cell_type": "markdown",
   "metadata": {
    "hidden": true,
    "id": "0GLvRlYwEo9-"
   },
   "source": [
    "Ejercicio: poner en marcha este clasificador con imágenes en vivo de la webcam, como se muestra en el pantallazo inicial."
   ]
  },
  {
   "cell_type": "markdown",
   "metadata": {
    "heading_collapsed": true,
    "id": "ufLOk7KDEo9-"
   },
   "source": [
    "## Validez del modelo gaussiano *"
   ]
  },
  {
   "cell_type": "markdown",
   "metadata": {
    "hidden": true,
    "id": "-i2FTXxJEo9-"
   },
   "source": [
    "Si el modelo gaussiano de la distribución de clases es correcto podríamos generar muestras sintéticas realistas."
   ]
  },
  {
   "cell_type": "markdown",
   "metadata": {
    "heading_collapsed": true,
    "hidden": true,
    "id": "s_fdglkJEo9-"
   },
   "source": [
    "### Muestras sintéticas *"
   ]
  },
  {
   "cell_type": "code",
   "execution_count": null,
   "metadata": {
    "hidden": true,
    "id": "7pzPGgkiEo9-"
   },
   "outputs": [],
   "source": [
    "# comprobamos la forma de generar muestras normales multivariables\n",
    "C = np.array([[4,-3],[-3,5]])\n",
    "if False:\n",
    "    kk = np.random.multivariate_normal((0,0),C,1000)\n",
    "else:\n",
    "    CC = np.linalg.cholesky(C)  # ojo\n",
    "    kk = np.random.randn(1000,2) @ CC.T\n",
    "    \n",
    "plt.figure(figsize=(4,4))\n",
    "plt.plot(*kk.T,'.',alpha=0.5);\n",
    "plt.axis('equal');\n",
    "print(np.mean(kk,axis=0))\n",
    "print(np.cov(kk.T))"
   ]
  },
  {
   "cell_type": "code",
   "execution_count": null,
   "metadata": {
    "hidden": true,
    "id": "2HAr9RknEo9_"
   },
   "outputs": [],
   "source": [
    "from sklearn import decomposition"
   ]
  },
  {
   "cell_type": "code",
   "execution_count": null,
   "metadata": {
    "hidden": true,
    "id": "f0jhP4ExEo9_"
   },
   "outputs": [],
   "source": [
    "selected = xl[cl==3]\n",
    "\n",
    "pca = decomposition.PCA(n_components=5)\n",
    "\n",
    "pca.fit(selected)\n",
    "#pca.fit(xl)\n",
    "\n",
    "tr = pca.transform(selected)"
   ]
  },
  {
   "cell_type": "code",
   "execution_count": null,
   "metadata": {
    "hidden": true,
    "id": "6whWg2I7Eo9_"
   },
   "outputs": [],
   "source": [
    "k = 7\n",
    "\n",
    "plt.figure(figsize=(8,4))\n",
    "plt.subplot(121)\n",
    "shdig(selected[k])\n",
    "plt.axis('off');\n",
    "plt.subplot(122)\n",
    "shdig(pca.inverse_transform(tr[[k]])[0])\n",
    "plt.axis('off');"
   ]
  },
  {
   "cell_type": "code",
   "execution_count": null,
   "metadata": {
    "hidden": true,
    "id": "Y9B8zdgnEo9_"
   },
   "outputs": [],
   "source": [
    "M = np.mean(tr,axis=0)\n",
    "C = np.cov(tr.T)"
   ]
  },
  {
   "cell_type": "code",
   "execution_count": null,
   "metadata": {
    "hidden": true,
    "id": "IxvRWoaOEo-A"
   },
   "outputs": [],
   "source": [
    "plt.figure(figsize=(12,4))\n",
    "plt.imshow(1-np.bmat([[ pca.inverse_transform([np.random.multivariate_normal(M,C)])[0].reshape(28,28) for _ in range(11)]]),'gray',vmin=0,vmax=1);\n",
    "plt.axis('off');"
   ]
  },
  {
   "cell_type": "markdown",
   "metadata": {
    "hidden": true,
    "id": "OvCPSRTgEo-A"
   },
   "source": [
    "Otra posibilidad es hacer un [QQ plot](https://en.wikipedia.org/wiki/Q%E2%80%93Q_plot) para comparar gráficamente las distribución de distancias de Mahalanobis, que es chi cuadrado."
   ]
  },
  {
   "cell_type": "markdown",
   "metadata": {
    "hidden": true,
    "id": "byeJTmQCEo-A"
   },
   "source": [
    "Caso de prueba con una gaussiana real:"
   ]
  },
  {
   "cell_type": "code",
   "execution_count": null,
   "metadata": {
    "hidden": true,
    "id": "o8qJzdViEo-A"
   },
   "outputs": [],
   "source": [
    "from scipy.stats import chi2\n",
    "\n",
    "df = 10\n",
    "data = np.sum(np.random.randn(1000,df)**2,axis=1)\n",
    "\n",
    "rv = chi2(df)\n",
    "\n",
    "x = sorted(data)\n",
    "n = len(x)\n",
    "y = np.linspace(1/n,1,n)\n",
    "y = np.arange(n)/n\n",
    "\n",
    "plt.figure(figsize=(12,12))\n",
    "plt.subplot(221)\n",
    "plt.hist(data,bins=20,edgecolor='black',density=True);\n",
    "X = np.linspace(min(data),max(data),50)\n",
    "plt.plot(X,rv.pdf(X));\n",
    "\n",
    "plt.subplot(222)\n",
    "plt.plot(x, rv.cdf(x), lw=7,color='gray');\n",
    "plt.plot(x,y,color='black');\n",
    "\n",
    "plt.subplot(223)\n",
    "plt.plot(y,rv.cdf(x));\n",
    "plt.plot([0,1],[0,1],'gray',lw=5,alpha=0.3)\n",
    "plt.axis('equal'); plt.title('PP Plot')\n",
    "\n",
    "plt.subplot(224)\n",
    "plt.plot(x, rv.ppf(y))\n",
    "mn = np.min(x)\n",
    "mx = np.max(x)\n",
    "plt.plot([mn,mx],[mn,mx],'gray',lw=5,alpha=0.3)\n",
    "plt.axis('equal'); plt.title('QQ Plot');\n",
    "\n",
    "#print(mn,mx)"
   ]
  },
  {
   "cell_type": "markdown",
   "metadata": {
    "hidden": true,
    "id": "GOdvYSu_Eo-A"
   },
   "source": [
    "Con los dígitos seleccionados:"
   ]
  },
  {
   "cell_type": "code",
   "execution_count": null,
   "metadata": {
    "hidden": true,
    "id": "rqosi1OgEo-B"
   },
   "outputs": [],
   "source": [
    "def distMah2(m,ic,v):\n",
    "    return (v-m) @ ic @ (v-m)\n",
    "\n",
    "def dm(m,c):\n",
    "    ic = np.linalg.inv(c)\n",
    "    return lambda v: distMah2(m,ic,v)"
   ]
  },
  {
   "cell_type": "code",
   "execution_count": null,
   "metadata": {
    "hidden": true,
    "id": "UjH7u9z3Eo-B"
   },
   "outputs": [],
   "source": [
    "d = dm(M,C)"
   ]
  },
  {
   "cell_type": "code",
   "execution_count": null,
   "metadata": {
    "hidden": true,
    "id": "smZsA7JqEo-B"
   },
   "outputs": [],
   "source": [
    "data = [d(x) for x in tr]\n",
    "\n",
    "df = len(M)\n",
    "\n",
    "rv = chi2(df)\n",
    "\n",
    "x = sorted(data)\n",
    "n = len(x)\n",
    "y = np.linspace(1/n,1,n)\n",
    "y = np.arange(n)/n\n",
    "\n",
    "plt.figure(figsize=(12,12))\n",
    "plt.subplot(221)\n",
    "plt.hist(data,bins=20,edgecolor='black',density=True);\n",
    "X = np.linspace(min(data),max(data),50)\n",
    "plt.plot(X,rv.pdf(X));\n",
    "\n",
    "plt.subplot(222)\n",
    "plt.plot(x, rv.cdf(x), lw=7,color='gray');\n",
    "plt.plot(x,y,color='black');\n",
    "\n",
    "plt.subplot(223)\n",
    "plt.plot(y,rv.cdf(x));\n",
    "plt.plot([0,1],[0,1],'gray',lw=5,alpha=0.3)\n",
    "plt.axis('equal'); plt.title('PP Plot')\n",
    "\n",
    "plt.subplot(224)\n",
    "plt.plot(x, rv.ppf(y))\n",
    "mn = np.min(x)\n",
    "mx = np.max(x)\n",
    "plt.plot([mn,mx],[mn,mx],'gray',lw=5,alpha=0.3)\n",
    "plt.axis('equal'); plt.title('QQ Plot');\n",
    "\n",
    "#print(mn,mx)"
   ]
  },
  {
   "cell_type": "markdown",
   "metadata": {
    "hidden": true,
    "id": "9I4gRhE5Eo-C"
   },
   "source": [
    "No es exactamente normal. A pesar de ello, si las nubes no están muy solapadas el clasificador se comportará bien."
   ]
  },
  {
   "cell_type": "markdown",
   "metadata": {
    "heading_collapsed": true,
    "hidden": true,
    "id": "07CZKV74Eo-C"
   },
   "source": [
    "### Objetos extremos *"
   ]
  },
  {
   "cell_type": "code",
   "execution_count": null,
   "metadata": {
    "hidden": true,
    "id": "kgt34dfsEo-C"
   },
   "outputs": [],
   "source": [
    "raro=np.argmax(data)\n",
    "shdig(selected[raro])"
   ]
  },
  {
   "cell_type": "code",
   "execution_count": null,
   "metadata": {
    "hidden": true,
    "id": "-x3tEE8CEo-C"
   },
   "outputs": [],
   "source": [
    "raros = sorted(range(len(selected)),key=lambda k:d(tr[k]))"
   ]
  },
  {
   "cell_type": "code",
   "execution_count": null,
   "metadata": {
    "hidden": true,
    "id": "i9E1XKteEo-C"
   },
   "outputs": [],
   "source": [
    "plt.figure(figsize=(12,4))\n",
    "plt.imshow(1-np.bmat([[ selected[raros[-k]].reshape(28,28) for k in range(1,11)]]),'gray',vmin=0,vmax=1);\n",
    "plt.axis('off');"
   ]
  },
  {
   "cell_type": "markdown",
   "metadata": {
    "heading_collapsed": true,
    "id": "OdQGFf-OEo-D"
   },
   "source": [
    "## Regularización *"
   ]
  },
  {
   "cell_type": "markdown",
   "metadata": {
    "hidden": true,
    "id": "8K3fpHrkEo-D"
   },
   "source": [
    "Para conseguir **generalización** es necesario controlar la capacidad de la máquinas de aprendizaje."
   ]
  },
  {
   "cell_type": "markdown",
   "metadata": {
    "hidden": true,
    "id": "sVJ-B89SEo-D"
   },
   "source": [
    "Vamos a ilustrar este principio con una máquina lineal. Seleccionamos dos clases y ponemos las salidas deseadas de la máquina a valores +1 y -1:"
   ]
  },
  {
   "cell_type": "code",
   "execution_count": null,
   "metadata": {
    "hidden": true,
    "id": "B44gbRcDEo-D"
   },
   "outputs": [],
   "source": [
    "n = 100\n",
    "ca = 5\n",
    "cb = 6\n",
    "\n",
    "# seleccionamos las posiciones de las clases que nos interesan\n",
    "sel_l = (cl == ca) | (cl==cb)\n",
    "sel_t = (ct == ca) | (ct==cb)\n",
    "\n",
    "# extraemos esas posiciones\n",
    "# x e y seleccionadas para aprendizaje\n",
    "# usaré solo los n primeros para aprender\n",
    "xsl = xl[sel_l][:n]\n",
    "ysl = cl[sel_l].astype(int)[:n]\n",
    "\n",
    "# y ponemos correctamente los valores deseados, positivo o negativo\n",
    "ysl[ysl==ca] =  1\n",
    "ysl[ysl==cb] = -1\n",
    "\n",
    "# y lo mismo para el x e y seleccionadas para test (evaluación independiente)\n",
    "xst = xt[sel_t]\n",
    "yst = ct[sel_t].astype(int)\n",
    "\n",
    "yst[yst==ca] =  1\n",
    "yst[yst==cb] = -1"
   ]
  },
  {
   "cell_type": "code",
   "execution_count": null,
   "metadata": {
    "hidden": true,
    "id": "UGqyjBDyEo-E"
   },
   "outputs": [],
   "source": [
    "np.sum(sel_l)"
   ]
  },
  {
   "cell_type": "code",
   "execution_count": null,
   "metadata": {
    "hidden": true,
    "id": "8PbAiZFYEo-E"
   },
   "outputs": [],
   "source": [
    "k1,k2 = 55, 56\n",
    "plt.figure(figsize=(12,4))\n",
    "plt.subplot(1,2,1)\n",
    "shdig(xsl[k1])\n",
    "plt.title(ysl[k1])\n",
    "plt.subplot(1,2,2)\n",
    "shdig(xsl[k2])\n",
    "plt.title(ysl[k2]);"
   ]
  },
  {
   "cell_type": "code",
   "execution_count": null,
   "metadata": {
    "hidden": true,
    "id": "KMoMmWVEEo-E"
   },
   "outputs": [],
   "source": [
    "xsl.shape"
   ]
  },
  {
   "cell_type": "code",
   "execution_count": null,
   "metadata": {
    "hidden": true,
    "id": "6sVZVRxVEo-F"
   },
   "outputs": [],
   "source": [
    "yst"
   ]
  },
  {
   "cell_type": "markdown",
   "metadata": {
    "hidden": true,
    "id": "imnr11rPEo-F"
   },
   "source": [
    "conveniente para añadir el término independiente (offset) a una máquina lineal"
   ]
  },
  {
   "cell_type": "code",
   "execution_count": null,
   "metadata": {
    "hidden": true,
    "id": "mY1nhkw3Eo-F"
   },
   "outputs": [],
   "source": [
    "def homog(x):\n",
    "    r,c = x.shape\n",
    "    return np.hstack([x, np.ones([r,1])])"
   ]
  },
  {
   "cell_type": "markdown",
   "metadata": {
    "hidden": true,
    "id": "wPBNJU0rEo-F"
   },
   "source": [
    "solución de mínimos cuadrados para un sistema lineal"
   ]
  },
  {
   "cell_type": "markdown",
   "metadata": {
    "hidden": true,
    "id": "Wi_87lwaEo-G"
   },
   "source": [
    "Deseo encontrar $W$ tal que `xsl @ w = ysel`\n",
    "\n",
    "O sea, resolver $X w= y$\n",
    "\n",
    "Usarmos `lstsq` del módulo de álgebra lineal `numpy.linalg`, que obtiene la solución de mínimo error cuadrático de un sistema (ver el notebook de [sistemas de ecuaciones](sistecs.ipynb))."
   ]
  },
  {
   "cell_type": "markdown",
   "metadata": {
    "hidden": true,
    "id": "u4fqLZgeEo-G"
   },
   "source": [
    "`lstsq` no es lo ideal para mostrar este efecto en el caso no regularizado, porque para sistemas subdeterminados obtiene la solución de mínima norma, y por tanto, también regulariza."
   ]
  },
  {
   "cell_type": "code",
   "execution_count": null,
   "metadata": {
    "hidden": true,
    "id": "yGunQupZEo-G"
   },
   "outputs": [],
   "source": [
    "W,_,_,_ = la.lstsq(homog(xsl),ysl,rcond=None)"
   ]
  },
  {
   "cell_type": "code",
   "execution_count": null,
   "metadata": {
    "hidden": true,
    "id": "OPi-kUDCEo-H"
   },
   "outputs": [],
   "source": [
    "#W"
   ]
  },
  {
   "cell_type": "code",
   "execution_count": null,
   "metadata": {
    "hidden": true,
    "id": "fmsYiSL4Eo-H"
   },
   "outputs": [],
   "source": [
    "#homog(xsl) @ W"
   ]
  },
  {
   "cell_type": "code",
   "execution_count": null,
   "metadata": {
    "hidden": true,
    "id": "9RGe3mSCEo-H"
   },
   "outputs": [],
   "source": [
    "#np.sign(homog(xsl) @ W) == np.sign(ysl)"
   ]
  },
  {
   "cell_type": "markdown",
   "metadata": {
    "hidden": true,
    "id": "kJVAo2PlEo-H"
   },
   "source": [
    "contamos los aciertos"
   ]
  },
  {
   "cell_type": "code",
   "execution_count": null,
   "metadata": {
    "hidden": true,
    "id": "bku1vchWEo-H"
   },
   "outputs": [],
   "source": [
    "np.sum(np.sign(homog(xsl) @ W) == np.sign(ysl)), len(ysl)"
   ]
  },
  {
   "cell_type": "markdown",
   "metadata": {
    "hidden": true,
    "id": "RjxvQTzeEo-I"
   },
   "source": [
    "Tiene buena pinta, acierta todos los ejemplos de entrenamiento."
   ]
  },
  {
   "cell_type": "markdown",
   "metadata": {
    "hidden": true,
    "id": "FNXXx9L6Eo-I"
   },
   "source": [
    "Pero de test falla bastantes:"
   ]
  },
  {
   "cell_type": "code",
   "execution_count": null,
   "metadata": {
    "hidden": true,
    "id": "U8CnkGsuEo-I"
   },
   "outputs": [],
   "source": [
    "np.sign(homog(xst) @ W) == np.sign(yst)"
   ]
  },
  {
   "cell_type": "code",
   "execution_count": null,
   "metadata": {
    "hidden": true,
    "id": "FiQsN7FeEo-I"
   },
   "outputs": [],
   "source": [
    "np.sum(np.sign(homog(xst) @ W) == np.sign(yst)), len(yst)"
   ]
  },
  {
   "cell_type": "code",
   "execution_count": null,
   "metadata": {
    "hidden": true,
    "id": "RRDqjxT8Eo-I"
   },
   "outputs": [],
   "source": [
    "k1,k2 = 55, 56\n",
    "plt.figure(figsize=(12,4))\n",
    "plt.subplot(1,2,1)\n",
    "shdig(xsl[k1])\n",
    "plt.title((homog(xsl) @ W)[k1])\n",
    "plt.subplot(1,2,2)\n",
    "shdig(xsl[k2])\n",
    "plt.title((homog(xsl) @ W)[k2]);"
   ]
  },
  {
   "cell_type": "markdown",
   "metadata": {
    "hidden": true,
    "id": "4728wRD4Eo-J"
   },
   "source": [
    "Obtiene exactamente los valores deseados $\\pm 1$, ya que tiene más grados de libertad (coeficientes ajustables) que restricciones (ecuaciones, número de ejemplos de entrenamiento). Esto inspira poca confianza en el comportamiento con ejemplos desconocidos:"
   ]
  },
  {
   "cell_type": "code",
   "execution_count": null,
   "metadata": {
    "hidden": true,
    "id": "dw8sXr-MEo-J"
   },
   "outputs": [],
   "source": [
    "k1,k2 = 62, 57\n",
    "plt.figure(figsize=(12,4))\n",
    "plt.subplot(1,2,1)\n",
    "shdig(xst[k1])\n",
    "plt.title((homog(xst) @ W)[k1])\n",
    "plt.subplot(1,2,2)\n",
    "shdig(xst[k2])\n",
    "plt.title((homog(xst) @ W)[k2]);"
   ]
  },
  {
   "cell_type": "markdown",
   "metadata": {
    "hidden": true,
    "id": "W-MGgeLCEo-J"
   },
   "source": [
    "Vamos a construir una solución regularizada, que penaliza con un peso $\\lambda$ el tamaño de los coeficientes, para que se reduzca la interpolación de detalles irrelevantes."
   ]
  },
  {
   "cell_type": "markdown",
   "metadata": {
    "hidden": true,
    "id": "otzR-ss3Eo-J"
   },
   "source": [
    "La solución regularizada es muy parecida a la de mínimos cuadrados, pero hay que \"inflar\" la covarianza $X^TX$ con $\\lambda$. En lugar de \n",
    "\n",
    "$w = (X^T X) ^{-1} X^T y$\n",
    "\n",
    "(esto es lo que hace internamente lstsq, es la \"pseudoinversa\" de X, por y)\n",
    "\n",
    "hacemos\n",
    "\n",
    "$w = (X^T X + \\lambda I) ^{-1} X^T y$"
   ]
  },
  {
   "cell_type": "code",
   "execution_count": null,
   "metadata": {
    "hidden": true,
    "id": "AEq1X39SEo-K"
   },
   "outputs": [],
   "source": [
    "lam = 100\n",
    "\n",
    "D = np.diag(lam*np.ones([784+1]))\n",
    "D[-1,-1] = 0\n",
    "# el coeficiente  b no se regulariza,\n",
    "# porque la posición del hiperplano puede ser cualquiera, no hay que \n",
    "# promover que se acerque al origen"
   ]
  },
  {
   "cell_type": "code",
   "execution_count": null,
   "metadata": {
    "hidden": true,
    "id": "jsRNoHCLEo-K"
   },
   "outputs": [],
   "source": [
    "#D"
   ]
  },
  {
   "cell_type": "code",
   "execution_count": null,
   "metadata": {
    "hidden": true,
    "id": "HeDIaolWEo-K"
   },
   "outputs": [],
   "source": [
    "xh = homog(xsl)\n",
    "Wr = la.solve(xh.T @ xh + D, xh.T @ ysl)"
   ]
  },
  {
   "cell_type": "code",
   "execution_count": null,
   "metadata": {
    "hidden": true,
    "id": "O992yjXyEo-K"
   },
   "outputs": [],
   "source": [
    "np.sum(np.sign(homog(xsl) @ Wr) == np.sign(ysl)), len(ysl)"
   ]
  },
  {
   "cell_type": "code",
   "execution_count": null,
   "metadata": {
    "hidden": true,
    "id": "t3efdj2YEo-L"
   },
   "outputs": [],
   "source": [
    "np.sum(np.sign(homog(xst) @ Wr) == np.sign(yst)), len(yst)"
   ]
  },
  {
   "cell_type": "markdown",
   "metadata": {
    "hidden": true,
    "id": "4dleh02REo-L"
   },
   "source": [
    "**Ejercicio**: crea una curva comparando $E_L$ con $E_T$ para valores crecientes de $\\lambda$."
   ]
  },
  {
   "cell_type": "code",
   "execution_count": null,
   "metadata": {
    "hidden": true,
    "id": "mMhvkQOGEo-L"
   },
   "outputs": [],
   "source": [
    "Lam = [0.01, 0.1, 1, 5, 10, 50, 100, 200, 500, 1000, 2000, 3000, 5000]\n",
    "\n",
    "def regu():\n",
    "    xh = homog(xsl)\n",
    "    L = []\n",
    "    T = []\n",
    "    for l in Lam:\n",
    "        D = np.diag(l*np.ones([784+1]))\n",
    "        D[-1,-1] = 0\n",
    "        Wr = la.solve(xh.T @ xh + D, xh.T @ ysl)\n",
    "        EL = np.sum(np.sign(homog(xsl) @ Wr) == np.sign(ysl)), len(ysl)\n",
    "        ET = np.sum(np.sign(homog(xst) @ Wr) == np.sign(yst)), len(yst)\n",
    "        L.append(EL[0]/EL[1])\n",
    "        T.append(ET[0]/ET[1])\n",
    "    return 1-np.array(L), 1-np.array(T)"
   ]
  },
  {
   "cell_type": "code",
   "execution_count": null,
   "metadata": {
    "hidden": true,
    "id": "QFiFpb6pEo-M"
   },
   "outputs": [],
   "source": [
    "plt.figure(figsize=(8,6))\n",
    "l,t = regu()\n",
    "plt.plot(100*l,'o-',label='training',color='red')\n",
    "plt.plot(100*t,'o-',label='test',color='green')\n",
    "plt.xticks(np.arange(13), Lam, rotation=45)\n",
    "plt.legend()\n",
    "plt.xlabel('$\\lambda$'); plt.ylabel('error %')\n",
    "plt.title('Regularization');"
   ]
  },
  {
   "cell_type": "markdown",
   "metadata": {
    "hidden": true,
    "id": "IyJp_YmrEo-M"
   },
   "source": [
    "Esta gráfica ilustra el principio teórico fundamental de *machine learning*: la **generalización** está relacionada con la **capacidad** de la máquina. "
   ]
  },
  {
   "cell_type": "markdown",
   "metadata": {
    "hidden": true,
    "id": "ZZEJ-39kEo-M"
   },
   "source": [
    "Recientemente se ha observado un nuevo fenómeno: **Deep Double Descent** [[blog1](https://www.alignmentforum.org/posts/FRv7ryoqtvSuqBxuT/understanding-deep-double-descent), [blog2](https://openai.com/blog/deep-double-descent/), [paper](https://mltheory.org/deep.pdf)].\n",
    "Si aumentamos aún más la capacidad de la máquina (típicamente utilizando redes neuronales profundas) el error de test ¡vuelve a disminuir!\n",
    "(En el gráfico anterior sería movernos hacia la izquierda, el eje está al revés que en estas referencias.)"
   ]
  },
  {
   "cell_type": "markdown",
   "metadata": {
    "heading_collapsed": true,
    "id": "WLtVv6lxEo-M"
   },
   "source": [
    "## *Adversarial examples*  *"
   ]
  },
  {
   "cell_type": "markdown",
   "metadata": {
    "hidden": true,
    "id": "3-69_uigEo-M"
   },
   "source": [
    "Es posible sintetizar instancias aparentemente inocentes pero que confunden al clasificador."
   ]
  },
  {
   "cell_type": "markdown",
   "metadata": {
    "heading_collapsed": true,
    "hidden": true,
    "id": "5UBI_GP7Eo-N"
   },
   "source": [
    "### Gaussian classifier *"
   ]
  },
  {
   "cell_type": "markdown",
   "metadata": {
    "hidden": true,
    "id": "6GoOk9WGEo-N"
   },
   "source": [
    "El clasificador gaussiano consigue menos de 4% de error."
   ]
  },
  {
   "cell_type": "code",
   "execution_count": null,
   "metadata": {
    "hidden": true,
    "id": "sx0YBX1nEo-N"
   },
   "outputs": [],
   "source": [
    "from sklearn import decomposition, discriminant_analysis\n",
    "\n",
    "def acc(maq,x,y):\n",
    "    return 100*(y == maq.predict(x)).sum() / len(y)"
   ]
  },
  {
   "cell_type": "code",
   "execution_count": null,
   "metadata": {
    "hidden": true,
    "id": "-zfFij2aEo-N"
   },
   "outputs": [],
   "source": [
    "transformer = decomposition.PCA(n_components=40).fit(xl)"
   ]
  },
  {
   "cell_type": "code",
   "execution_count": null,
   "metadata": {
    "hidden": true,
    "id": "RNx0FnUJEo-N"
   },
   "outputs": [],
   "source": [
    "xrl = transformer.transform(xl)\n",
    "xrt = transformer.transform(xt)"
   ]
  },
  {
   "cell_type": "code",
   "execution_count": null,
   "metadata": {
    "hidden": true,
    "id": "0QFWUXB7Eo-N"
   },
   "outputs": [],
   "source": [
    "maq = discriminant_analysis.QuadraticDiscriminantAnalysis(store_covariance=True).fit(xrl,cl)"
   ]
  },
  {
   "cell_type": "code",
   "execution_count": null,
   "metadata": {
    "hidden": true,
    "id": "c5nzwxaHEo-O"
   },
   "outputs": [],
   "source": [
    "acc(maq,xrt,ct)"
   ]
  },
  {
   "cell_type": "markdown",
   "metadata": {
    "heading_collapsed": true,
    "hidden": true,
    "id": "VO-NKMCtEo-O"
   },
   "source": [
    "### Adversarial examples *"
   ]
  },
  {
   "cell_type": "markdown",
   "metadata": {
    "hidden": true,
    "id": "tYDFZyJVEo-O"
   },
   "source": [
    "Calculamos la dirección en la que hay que mover un objeto v para que se acerque a la clase c."
   ]
  },
  {
   "cell_type": "code",
   "execution_count": null,
   "metadata": {
    "hidden": true,
    "id": "lF9DvVIsEo-P"
   },
   "outputs": [],
   "source": [
    "def mkg(transformer,maquina,c,v):\n",
    "    d0 = transformer.transform([v])[0] - maquina.means_[c]\n",
    "    d1 = np.linalg.inv(maquina.covariance_[c]) @ d0\n",
    "    d2 = transformer.inverse_transform(d1)\n",
    "    return d2"
   ]
  },
  {
   "cell_type": "code",
   "execution_count": null,
   "metadata": {
    "hidden": true,
    "id": "snGM0F91Eo-P"
   },
   "outputs": [],
   "source": [
    "cdesired = 5\n",
    "\n",
    "k = 1234\n",
    "v0 = xt[k]\n",
    "v = v0\n",
    "corig = ct[k]\n",
    "shdig(v0); plt.title(corig);\n",
    "redu = transformer.transform([v])\n",
    "maq.predict_proba(redu)[0][[cdesired,corig]]"
   ]
  },
  {
   "cell_type": "code",
   "execution_count": null,
   "metadata": {
    "hidden": true,
    "id": "MIZOqesOEo-P"
   },
   "outputs": [],
   "source": [
    "for _ in range(10):\n",
    "    g = mkg(transformer, maq, corig, v) - mkg(transformer, maq, cdesired, v)\n",
    "    v = np.clip(v + 0.01*g, 0, 1)\n",
    "    redu = transformer.transform([v])\n",
    "    cp = maq.predict(redu)[0]\n",
    "    if cp != corig: break\n",
    "    \n",
    "shdig(v)\n",
    "plt.title(cp)\n",
    "maq.predict_proba(redu)[0][[cdesired,corig]]"
   ]
  },
  {
   "cell_type": "code",
   "execution_count": null,
   "metadata": {
    "hidden": true,
    "id": "h_HLqEQJEo-Q"
   },
   "outputs": [],
   "source": [
    "shdig(abs(v-v0))\n",
    "print(np.sum(abs(v-v0)))"
   ]
  },
  {
   "cell_type": "markdown",
   "metadata": {
    "heading_collapsed": true,
    "hidden": true,
    "id": "m1In_CwDEo-Q"
   },
   "source": [
    "### Random inputs *"
   ]
  },
  {
   "cell_type": "code",
   "execution_count": null,
   "metadata": {
    "hidden": true,
    "id": "wgjDCIMhEo-R"
   },
   "outputs": [],
   "source": [
    "v0 = np.random.rand(28,28).flatten()\n",
    "shdig(v0)\n",
    "v = v0\n",
    "redu = transformer.transform([v])\n",
    "plt.title(maq.predict(redu)[0]);\n",
    "maq.predict_proba(redu)[0].max()"
   ]
  },
  {
   "cell_type": "code",
   "execution_count": null,
   "metadata": {
    "hidden": true,
    "id": "1DgV62MTEo-R"
   },
   "outputs": [],
   "source": [
    "cdesired = 0\n",
    "for _ in range(3):\n",
    "    g = - mkg(transformer, maq, cdesired, v)\n",
    "    v = np.clip(v + 0.01*g, 0, 1)\n",
    "    redu = transformer.transform([v])\n",
    "    cp = maq.predict(redu)[0]\n",
    "    \n",
    "shdig(v)\n",
    "plt.title(cp)\n",
    "maq.predict_proba(redu)[0][cdesired]"
   ]
  },
  {
   "cell_type": "code",
   "execution_count": null,
   "metadata": {
    "hidden": true,
    "id": "PqrDaqZ3Eo-R"
   },
   "outputs": [],
   "source": [
    "maq.predict_proba(redu)[0]"
   ]
  },
  {
   "cell_type": "code",
   "execution_count": null,
   "metadata": {
    "hidden": true,
    "id": "PkI1Oz2pEo-R"
   },
   "outputs": [],
   "source": [
    "shdig(abs(v-v0))\n",
    "print(np.sum(abs(v-v0)))"
   ]
  },
  {
   "cell_type": "markdown",
   "metadata": {
    "heading_collapsed": true,
    "id": "Axfi1np5Eo-R"
   },
   "source": [
    "## Otras máquinas de aprendizaje *"
   ]
  },
  {
   "cell_type": "markdown",
   "metadata": {
    "hidden": true,
    "id": "tr_Z9FRjEo-S"
   },
   "source": [
    "Intentamos, sin mucho éxito, mejorar el resultado anterior con otras máquinas de aprendizaje."
   ]
  },
  {
   "cell_type": "markdown",
   "metadata": {
    "heading_collapsed": true,
    "hidden": true,
    "id": "qb5ewg56Eo-S"
   },
   "source": [
    "### Naive Bayes *"
   ]
  },
  {
   "cell_type": "code",
   "execution_count": null,
   "metadata": {
    "hidden": true,
    "id": "hywEd6uOEo-S"
   },
   "outputs": [],
   "source": [
    "from sklearn.naive_bayes import GaussianNB\n",
    "gnb = GaussianNB()\n",
    "\n",
    "maq = gnb.fit(xl, cl)"
   ]
  },
  {
   "cell_type": "code",
   "execution_count": null,
   "metadata": {
    "hidden": true,
    "id": "1-XsVaN0Eo-S"
   },
   "outputs": [],
   "source": [
    "acc(maq,xt,ct)"
   ]
  },
  {
   "cell_type": "code",
   "execution_count": null,
   "metadata": {
    "hidden": true,
    "id": "Saxety-QEo-T"
   },
   "outputs": [],
   "source": [
    "maq.predict(digits)"
   ]
  },
  {
   "cell_type": "markdown",
   "metadata": {
    "hidden": true,
    "id": "QxMV9JdTEo-T"
   },
   "source": [
    "Sin reducción de dimensión (sobre los pixels crudos) el método gaussiano con atributos independientes funciona muy mal. Se puede mejorar un poco con un pequeño truco para implementar un método de clasificación por mínima distancia a la media."
   ]
  },
  {
   "cell_type": "code",
   "execution_count": null,
   "metadata": {
    "hidden": true,
    "id": "2fPtL-4pEo-T"
   },
   "outputs": [],
   "source": [
    "maq.var_ = maq.var_ * 0 + 1"
   ]
  },
  {
   "cell_type": "code",
   "execution_count": null,
   "metadata": {
    "hidden": true,
    "id": "lXaAELe2Eo-T"
   },
   "outputs": [],
   "source": [
    "acc(maq,xt,ct)"
   ]
  },
  {
   "cell_type": "code",
   "execution_count": null,
   "metadata": {
    "hidden": true,
    "id": "diltHqPmEo-T"
   },
   "outputs": [],
   "source": [
    "maq.predict(digits)"
   ]
  },
  {
   "cell_type": "markdown",
   "metadata": {
    "heading_collapsed": true,
    "hidden": true,
    "id": "lKi6dJY8Eo-T"
   },
   "source": [
    "### Support vector machine (SVM) *"
   ]
  },
  {
   "cell_type": "code",
   "execution_count": null,
   "metadata": {
    "hidden": true,
    "id": "qrF-TlVKEo-U"
   },
   "outputs": [],
   "source": [
    "from sklearn import svm\n",
    "\n",
    "classifier = svm.SVC(gamma=0.01, C=0.1)\n",
    "#classifier = svm.SVC(gamma=0.001)\n",
    "\n",
    "classifier.kernel"
   ]
  },
  {
   "cell_type": "code",
   "execution_count": null,
   "metadata": {
    "hidden": true,
    "id": "GcgZtWnUEo-V"
   },
   "outputs": [],
   "source": [
    "maq = classifier.fit(xl[:5000], cl[:5000])\n",
    "\n",
    "maq.support_vectors_.shape"
   ]
  },
  {
   "cell_type": "code",
   "execution_count": null,
   "metadata": {
    "hidden": true,
    "id": "mGh87pFvEo-V"
   },
   "outputs": [],
   "source": [
    "acc(maq,xt,ct)"
   ]
  },
  {
   "cell_type": "code",
   "execution_count": null,
   "metadata": {
    "hidden": true,
    "id": "vn-63IBIEo-V"
   },
   "outputs": [],
   "source": [
    "maq.predict(digits)"
   ]
  },
  {
   "cell_type": "code",
   "execution_count": null,
   "metadata": {
    "hidden": true,
    "id": "g9kjoqfCEo-V"
   },
   "outputs": [],
   "source": [
    "#import pickle\n",
    "#s = pickle.dumps(maq)"
   ]
  },
  {
   "cell_type": "code",
   "execution_count": null,
   "metadata": {
    "hidden": true,
    "id": "zkQj4ilLEo-V"
   },
   "outputs": [],
   "source": [
    "#from sklearn.externals import joblib\n",
    "#joblib.dump(maq, 'svm.pkl') "
   ]
  },
  {
   "cell_type": "code",
   "execution_count": null,
   "metadata": {
    "hidden": true,
    "id": "wBfsPR_IEo-V"
   },
   "outputs": [],
   "source": [
    "#maq = joblib.load('svm.pkl') "
   ]
  },
  {
   "cell_type": "markdown",
   "metadata": {
    "heading_collapsed": true,
    "hidden": true,
    "id": "vTHgmWZyEo-V"
   },
   "source": [
    "### Gradient Boosting *"
   ]
  },
  {
   "cell_type": "code",
   "execution_count": null,
   "metadata": {
    "hidden": true,
    "id": "PUzq99PYEo-V"
   },
   "outputs": [],
   "source": [
    "from sklearn import ensemble"
   ]
  },
  {
   "cell_type": "code",
   "execution_count": null,
   "metadata": {
    "hidden": true,
    "id": "WmGK5m2HEo-V"
   },
   "outputs": [],
   "source": [
    "clf = ensemble.GradientBoostingClassifier(subsample=0.1, n_estimators=50, max_features=50, min_samples_split=10)\n",
    "\n",
    "clf.fit(xl, cl)"
   ]
  },
  {
   "cell_type": "code",
   "execution_count": null,
   "metadata": {
    "hidden": true,
    "id": "t1wMbvzrEo-V"
   },
   "outputs": [],
   "source": [
    "clf.score(xl,cl), clf.score(xt,ct)"
   ]
  },
  {
   "cell_type": "markdown",
   "metadata": {
    "heading_collapsed": true,
    "hidden": true,
    "id": "SWz52MvIEo-W"
   },
   "source": [
    "### Random Forest *"
   ]
  },
  {
   "cell_type": "code",
   "execution_count": null,
   "metadata": {
    "hidden": true,
    "id": "dHqtpNKbEo-W"
   },
   "outputs": [],
   "source": [
    "clf = ensemble.RandomForestClassifier(n_estimators=100,n_jobs=-1)\n",
    "\n",
    "clf.fit(xl, cl)"
   ]
  },
  {
   "cell_type": "code",
   "execution_count": null,
   "metadata": {
    "hidden": true,
    "id": "QoXloNfsEo-W"
   },
   "outputs": [],
   "source": [
    "clf.score(xl,cl), clf.score(xt,ct)"
   ]
  },
  {
   "cell_type": "markdown",
   "metadata": {
    "hidden": true,
    "id": "Q2Ywxy-VEo-X"
   },
   "source": [
    "No está mal, pero no compensa la sencillez del método PCA+Gaussiano."
   ]
  },
  {
   "cell_type": "markdown",
   "metadata": {
    "heading_collapsed": true,
    "id": "XOTPTi5eEo-X"
   },
   "source": [
    "## Deep Learning"
   ]
  },
  {
   "cell_type": "markdown",
   "metadata": {
    "hidden": true,
    "id": "QASmKdrnEo-X"
   },
   "source": [
    "Finalmente, entrenamos redes neuronales artificiales. Si no tienes una GPU con CUDA puedes utilizar el servicio COLAB."
   ]
  },
  {
   "cell_type": "markdown",
   "metadata": {},
   "source": [
    "[Ejemplos muy simples](simpleANN.ipynb)."
   ]
  },
  {
   "cell_type": "markdown",
   "metadata": {
    "heading_collapsed": true,
    "hidden": true,
    "id": "4-gOtTNcEo-X"
   },
   "source": [
    "### MLP"
   ]
  },
  {
   "cell_type": "markdown",
   "metadata": {
    "hidden": true,
    "id": "drqnF5fvEo-X"
   },
   "source": [
    "En primer lugar probamos un sencillo perceptrón multicapa. Mediante el paquete keras la definición de la red es muy simple:"
   ]
  },
  {
   "cell_type": "code",
   "execution_count": null,
   "metadata": {
    "hidden": true,
    "id": "C1n1oj3NEo-X"
   },
   "outputs": [],
   "source": [
    "# ver code/DL/CNN/keras0.py"
   ]
  },
  {
   "cell_type": "markdown",
   "metadata": {
    "hidden": true,
    "id": "xPOuoyZTEo-Y"
   },
   "source": [
    "La tasa de error es menor que la de los métodos anteriores."
   ]
  },
  {
   "cell_type": "markdown",
   "metadata": {
    "heading_collapsed": true,
    "hidden": true,
    "id": "KNcsixXPEo-Y"
   },
   "source": [
    "### CNN"
   ]
  },
  {
   "cell_type": "markdown",
   "metadata": {
    "hidden": true,
    "id": "MEctIpZLEo-Y"
   },
   "source": [
    "Una solución todavía mejor se consigue con una [red convolucional](https://github.com/fchollet/deep-learning-with-python-notebooks)."
   ]
  },
  {
   "cell_type": "code",
   "execution_count": null,
   "metadata": {
    "hidden": true,
    "id": "uxJiZms9Eo-Y"
   },
   "outputs": [],
   "source": [
    "# ver code/DL/CNN/keras1.py"
   ]
  },
  {
   "cell_type": "markdown",
   "metadata": {},
   "source": [
    "### Imagen real"
   ]
  },
  {
   "cell_type": "code",
   "execution_count": null,
   "metadata": {},
   "outputs": [],
   "source": [
    "model = keras.models.load_model('../code/DL/CNN/digits.keras')"
   ]
  },
  {
   "cell_type": "code",
   "execution_count": null,
   "metadata": {},
   "outputs": [],
   "source": [
    "model.summary()"
   ]
  },
  {
   "cell_type": "code",
   "execution_count": null,
   "metadata": {},
   "outputs": [],
   "source": [
    "# convert class labels to one-shot vectors\n",
    "y_train = keras.utils.to_categorical(y_train, 10)\n",
    "y_test = keras.utils.to_categorical(y_test, 10)"
   ]
  },
  {
   "cell_type": "code",
   "execution_count": null,
   "metadata": {},
   "outputs": [],
   "source": [
    "score = model.evaluate(x_test, y_test, verbose=0)\n",
    "print(\"Test loss:\", score[0])\n",
    "print(\"Test accuracy:\", score[1])"
   ]
  },
  {
   "cell_type": "markdown",
   "metadata": {
    "hidden": true,
    "id": "3dm1wUrhEo-j"
   },
   "source": [
    "Esta máquina clasifica correctamente todos los dígitos de la imagen natural."
   ]
  },
  {
   "cell_type": "code",
   "execution_count": null,
   "metadata": {
    "hidden": true,
    "id": "G_6QnwYUEo-j"
   },
   "outputs": [],
   "source": [
    "plt.imshow(-np.hstack([x.reshape(28,28) for x in ok]),'gray'); plt.axis('off');\n",
    "\n",
    "np.argmax(model.predict(np.array(ok).reshape(-1,28,28,1)), axis=1)"
   ]
  },
  {
   "cell_type": "markdown",
   "metadata": {
    "hidden": true,
    "id": "is7yVSUCEo-j"
   },
   "source": [
    "La operación de clasificación es muy rápida también en CPU, por lo que se puede usar esta máquina para clasificar dígitos en vivo con la webcam en cualquier ordenador."
   ]
  },
  {
   "cell_type": "markdown",
   "metadata": {
    "heading_collapsed": true,
    "hidden": true,
    "id": "SHGWEmZKEo-j"
   },
   "source": [
    "### Autoencoder"
   ]
  },
  {
   "cell_type": "markdown",
   "metadata": {
    "hidden": true,
    "id": "dfBKkIi2Eo-j"
   },
   "source": [
    "En el notebook [bottleneck](bottleneck.ipynb) se muestra un ejemplo de reducción de dimensión no lineal usando una red multicapa."
   ]
  }
 ],
 "metadata": {
  "accelerator": "GPU",
  "colab": {
   "provenance": [],
   "toc_visible": true
  },
  "gpuClass": "standard",
  "hide_input": false,
  "kernelspec": {
   "display_name": "Python 3 (ipykernel)",
   "language": "python",
   "name": "python3"
  },
  "language_info": {
   "codemirror_mode": {
    "name": "ipython",
    "version": 3
   },
   "file_extension": ".py",
   "mimetype": "text/x-python",
   "name": "python",
   "nbconvert_exporter": "python",
   "pygments_lexer": "ipython3",
   "version": "3.11.11"
  },
  "varInspector": {
   "cols": {
    "lenName": 16,
    "lenType": 16,
    "lenVar": 40
   },
   "kernels_config": {
    "python": {
     "delete_cmd_postfix": "",
     "delete_cmd_prefix": "del ",
     "library": "var_list.py",
     "varRefreshCmd": "print(var_dic_list())"
    },
    "r": {
     "delete_cmd_postfix": ") ",
     "delete_cmd_prefix": "rm(",
     "library": "var_list.r",
     "varRefreshCmd": "cat(var_dic_list()) "
    }
   },
   "types_to_exclude": [
    "module",
    "function",
    "builtin_function_or_method",
    "instance",
    "_Feature"
   ],
   "window_display": false
  }
 },
 "nbformat": 4,
 "nbformat_minor": 4
}

{
 "cells": [
  {
   "cell_type": "markdown",
   "id": "8975eabe-a55b-4771-9ec7-e1f315bcf6fd",
   "metadata": {},
   "source": [
    "# Fedora"
   ]
  },
  {
   "cell_type": "markdown",
   "id": "8ee5b0e9-da5c-48bd-8ce2-f7ce4956ca68",
   "metadata": {},
   "source": [
    "\n",
    "Para instalar en fedora es recomendable usar la herramienta [Toolbx](https://docs.fedoraproject.org/es/fedora-silverblue/toolbox/).\n",
    "\n",
    "Toolbx permite crear un entorno dentro de un contenedor, donde se pueden instalar paquetes sin afectar a las instalación del sistema.\n",
    "\n",
    "Ventajas de usar Toolbx:\n",
    "* No afectamos a la instalación del sistema, una vez superada la asignatura puede borrarse el contenedor facilmente, borrando así todos los binarios necesarios para la compilación y uso de Python\n",
    "* Permite instalar una imagen de una versión concreta de fedora; esta guía es para fedora 41, si sistema anfitrión tiene una versión diferente esta guía podría no funcionar, con Toolbx da igual cual sea la versión del sistema anfitrión(e inclusión la distribución de Linux)\n",
    "\n",
    "Inconvenientes:\n",
    "* Hay que recordar usar el comando `toolbox enter` para entrar al entorno\n",
    "\n",
    "## 1. Creación de la Toolbx\n",
    "En caso de no querer usar Toolbx omitir este paso completamente y saltar al paso 2.\n",
    "\n",
    "Creamos una Toolbx de nombre **via_toolbox** de fedora 41:\n",
    "```bash\n",
    "toolbox create --distro fedora --release f41 via_toolbox\n",
    "```\n",
    "Entramos en la Toolbx:\n",
    "```bash\n",
    "toolbox enter via_toolbox\n",
    "```\n",
    "\n",
    "## 2. Instalación de dependencias\n",
    "Instalamos las herramientas de desarrollo para la compilación de python:\n",
    "```bash\n",
    "sudo dnf group install development-tools -y\n",
    "```\n",
    "Así como demás paquetes para que funcione correctamente:\n",
    "```bash\n",
    "sudo dnf install zlib-devel bzip2-devel openssl-devel ncurses-devel sqlite-devel readline-devel tk-devel gdbm-devel db4-devel libpcap-devel xz-devel expat-devel tk-devel mesa-libGL qt5-qtwayland -y\n",
    "```\n",
    "\n",
    "## 3. Instalación de Pyenv\n",
    "Descargamos y ejecutamos el script de instalación:\n",
    "```bash\n",
    "curl -fsSL https://pyenv.run | bash\n",
    "```\n",
    "Editamos el archivo `$HOME/.bashrc` para añadir las siguientes líneas:\n",
    "```bash\n",
    "export PYENV_ROOT=\"$HOME/.pyenv\"\n",
    "export PATH=\"$PYENV_ROOT/bin:$PATH\"\n",
    "eval \"$(pyenv init --path)\"\n",
    "eval \"$(pyenv init -)\"\n",
    "eval \"$(pyenv virtualenv-init -)\"\n",
    "```\n",
    "\n",
    "## 4. Instalación de Python y creación del entorno Pyenv\n",
    "Lo que sigue es ya un uso regular de Pyenv.\n",
    "\n",
    "Instalamos la versión 3.11 de Python y creamos un entorno de nombre **via**\n",
    "```bash\n",
    "pyenv install 3.11\n",
    "pyenv virtualenv 3.11.11 via\n",
    "```\n",
    "Seguidamente nos vamos a la carpeta del proyecto y activamos el entorno para esa carpeta:\n",
    "```bash\n",
    "pyenv local via\n",
    "```\n",
    "\n",
    "## 5. Instalación de dependencias\n",
    "```bash\n",
    "pip install -r requirements_0.txt; pip install -r requirements_gl.txt\n",
    "```\n"
   ]
  }
 ],
 "metadata": {
  "kernelspec": {
   "display_name": "Python 3 (ipykernel)",
   "language": "python",
   "name": "python3"
  },
  "language_info": {
   "codemirror_mode": {
    "name": "ipython",
    "version": 3
   },
   "file_extension": ".py",
   "mimetype": "text/x-python",
   "name": "python",
   "nbconvert_exporter": "python",
   "pygments_lexer": "ipython3",
   "version": "3.11.11"
  }
 },
 "nbformat": 4,
 "nbformat_minor": 5
}

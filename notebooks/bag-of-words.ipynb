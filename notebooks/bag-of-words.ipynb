{
 "cells": [
  {
   "cell_type": "markdown",
   "metadata": {},
   "source": [
    "# *Bag of visual words*"
   ]
  },
  {
   "cell_type": "markdown",
   "metadata": {},
   "source": [
    "Experimentos para construir un \"[vocabulario visual](https://en.wikipedia.org/wiki/Bag-of-words_model_in_computer_vision)\"."
   ]
  },
  {
   "cell_type": "markdown",
   "metadata": {},
   "source": [
    "## Bibliotecas y funciones auxiliares"
   ]
  },
  {
   "cell_type": "code",
   "execution_count": null,
   "metadata": {},
   "outputs": [],
   "source": [
    "import numpy             as np\n",
    "import cv2               as cv\n",
    "import matplotlib.pyplot as plt\n",
    "import glob\n",
    "import pickle\n",
    "\n",
    "def fig(w,h):\n",
    "    plt.figure(figsize=(w,h))\n",
    "\n",
    "def readrgb(file):\n",
    "    return cv.cvtColor( cv.imread(\"../images/\"+file), cv.COLOR_BGR2RGB) \n",
    "    \n",
    "import glob\n",
    "def readfiles(path):\n",
    "    return [readrgb(file) for file in sorted(glob.glob('../images/'+path))]"
   ]
  },
  {
   "cell_type": "markdown",
   "metadata": {},
   "source": [
    "## wikiart"
   ]
  },
  {
   "cell_type": "markdown",
   "metadata": {},
   "source": [
    "Nuestro objetivo en este caso de estudio es identificar pinturas de Velázquez a partir de fragmentos. La página web [wikiart](https://www.wikiart.org/) proporciona imágenes de gran calidad que podemos descargar mediante la utilidad [wikiart retriever](https://github.com/lucasdavid/wikiart)."
   ]
  },
  {
   "cell_type": "code",
   "execution_count": null,
   "metadata": {},
   "outputs": [],
   "source": [
    "imgs = readfiles('velazquez/*/*.jpg')\n",
    "print(len(imgs))"
   ]
  },
  {
   "cell_type": "markdown",
   "metadata": {},
   "source": [
    "Las imágenes se caracterizarán mediante sus puntos SIFT:"
   ]
  },
  {
   "cell_type": "code",
   "execution_count": null,
   "metadata": {},
   "outputs": [],
   "source": [
    "sift = cv.SIFT_create(nfeatures=0, contrastThreshold = 0.07)\n",
    "\n",
    "img = imgs[5]\n",
    "\n",
    "view = img.copy()\n",
    "\n",
    "kp,desc = sift.detectAndCompute(img, mask=None)\n",
    "\n",
    "flag = cv.DRAW_MATCHES_FLAGS_DRAW_RICH_KEYPOINTS\n",
    "cv.drawKeypoints(view,kp,view, color=(100,150,255), flags=flag)\n",
    "\n",
    "fig(15,10)\n",
    "print(len(kp))\n",
    "plt.imshow(view);"
   ]
  },
  {
   "cell_type": "markdown",
   "metadata": {},
   "source": [
    "Lo primero que hacemos es calcular los descriptores SIFT de toda la colección y guardarlos en memoria, de modo que en lo sucesivo podamos recuperarlos rápidamente. Guardamos los de cada imagen por separado en `allpoints`, y la colección completa en el array `points`. (Es redundante, pero así ilustramos la forma de trabajar con `pickle` y con `np.save_compressed`)."
   ]
  },
  {
   "cell_type": "code",
   "execution_count": null,
   "metadata": {},
   "outputs": [],
   "source": [
    "def mkSIFT(nfeatures=0, contrastThreshold=0.04, minscale=0):\n",
    "        sift = cv.SIFT_create(nfeatures=nfeatures, contrastThreshold = contrastThreshold)\n",
    "        def fun(x):\n",
    "            kp,desc = sift.detectAndCompute(x, mask=None)\n",
    "            sc = np.array([k.size for k in kp])\n",
    "            return desc[sc>minscale].astype(np.uint8)\n",
    "        return fun\n",
    "\n",
    "\n",
    "sift = mkSIFT(contrastThreshold = 0.07)\n",
    "\n",
    "if False:\n",
    "    allpoints = []\n",
    "    for k,x in enumerate(imgs):\n",
    "        allpoints.append(sift(x))\n",
    "        print(k, len(allpoints[-1]))\n",
    "\n",
    "    pickle.dump( allpoints, open( \"allpoints.p\", \"wb\" ) )\n",
    "    points = np.vstack(allpoints)\n",
    "    np.savez_compressed('keypoints', points=points)\n",
    "    \n",
    "else:\n",
    "    allpoints = pickle.load( open( \"../data/allpoints.p\", \"rb\" ) )\n",
    "    points = np.load('../data/keypoints.npz')['points'].astype(np.float32)\n",
    "\n",
    "points.shape, points.dtype"
   ]
  },
  {
   "cell_type": "markdown",
   "metadata": {},
   "source": [
    "Por curiosidad, mostramos la distribución de simulitudes de un cierto punto con todos los demás."
   ]
  },
  {
   "cell_type": "code",
   "execution_count": null,
   "metadata": {},
   "outputs": [],
   "source": [
    "dis = abs(points - points[2334]).sum(axis=1)/128\n",
    "\n",
    "plt.hist(dis,bins=30);# plt.ylim(0,200)"
   ]
  },
  {
   "cell_type": "markdown",
   "metadata": {},
   "source": [
    "## *Matching* \"normal\" "
   ]
  },
  {
   "cell_type": "markdown",
   "metadata": {},
   "source": [
    "En primer lugar vamos a intentar reconocer las obras mediante el número de coincidencias \"buenas\", igual que en ejemplo simple del notebook [keypoints](keypoints.ipynb)."
   ]
  },
  {
   "cell_type": "code",
   "execution_count": null,
   "metadata": {},
   "outputs": [],
   "source": [
    "bf = cv.BFMatcher()\n",
    "\n",
    "# número de coincidencias que superan el ratio test\n",
    "def match(query, model):\n",
    "    matches = bf.knnMatch(query,model,k=2)\n",
    "    # ratio test\n",
    "    good = []\n",
    "    for m in matches:\n",
    "        if len(m) == 2:\n",
    "            best, second = m\n",
    "            if best.distance < 0.75*second.distance:\n",
    "                good.append(best)\n",
    "    return len(good)\n",
    "\n",
    "# devuelve una lista ordenada de número de matchings-índice del modelo\n",
    "def find(x):\n",
    "    v = sift(x)\n",
    "    print(len(v))\n",
    "    dists = sorted([(match(v,u),k) for k,u in enumerate(allpoints)])[::-1]\n",
    "    return dists"
   ]
  },
  {
   "cell_type": "markdown",
   "metadata": {},
   "source": [
    "Por ejemplo, la primera obra coincide con ella misma en 156 puntos, con la de índice 29 solo en 12, etc."
   ]
  },
  {
   "cell_type": "code",
   "execution_count": null,
   "metadata": {},
   "outputs": [],
   "source": [
    "find(imgs[0])[:20]"
   ]
  },
  {
   "cell_type": "markdown",
   "metadata": {},
   "source": [
    "Hemos preparado unos cuantos recortes de algunas obras para probar el método."
   ]
  },
  {
   "cell_type": "code",
   "execution_count": null,
   "metadata": {},
   "outputs": [],
   "source": [
    "cosas = readfiles('sift/1640/*.*')"
   ]
  },
  {
   "cell_type": "markdown",
   "metadata": {},
   "source": [
    "La primera de ellas tiene 647 puntos SIFT, de los cuales coinciden 539 con el modelo 86, y el resto de modelos tiene muchas menos."
   ]
  },
  {
   "cell_type": "code",
   "execution_count": null,
   "metadata": {},
   "outputs": [],
   "source": [
    "find(cosas[0])[:10]"
   ]
  },
  {
   "cell_type": "markdown",
   "metadata": {},
   "source": [
    "Vamos a ponerlo más difícil, rotando, reduciendo de tamaño y suavizando el fragmento:"
   ]
  },
  {
   "cell_type": "code",
   "execution_count": null,
   "metadata": {},
   "outputs": [],
   "source": [
    "%%time\n",
    "\n",
    "k = 2\n",
    "b = 0\n",
    "fig(12,6)\n",
    "plt.subplot(1,2,1)\n",
    "orig = cosas[k]\n",
    "obs  = np.rot90(cv.GaussianBlur(cv.resize(orig,(0,0), fx=0.7, fy=0.7),(0,0), 2),1)\n",
    "plt.imshow(obs);\n",
    "dists = find(obs)[:5]\n",
    "print(f'{dists[0][0]} - {dists[1][0]}')\n",
    "best = dists[b][1]\n",
    "plt.subplot(1,2,2)\n",
    "plt.imshow(imgs[best]);"
   ]
  },
  {
   "cell_type": "markdown",
   "metadata": {},
   "source": [
    "La evaluación es muy rápida debido a que en este caso en la imagen desconocida hay pocos puntos SIFT (35), de los cuales 17 coinciden con un modelo, que resulta ser correcto. El segundo mejor solo tiene 2 coincidencias."
   ]
  },
  {
   "cell_type": "markdown",
   "metadata": {},
   "source": [
    "Cuando la imagen tiene más puntos el tiempo de cómputo empieza a ser elevado:"
   ]
  },
  {
   "cell_type": "code",
   "execution_count": null,
   "metadata": {},
   "outputs": [],
   "source": [
    "%%time\n",
    "\n",
    "k = 8\n",
    "b = 0\n",
    "fig(12,6)\n",
    "plt.subplot(1,2,1)\n",
    "orig = cosas[k]\n",
    "obs  = np.rot90(cv.GaussianBlur(cv.resize(orig,(0,0), fx=1.2, fy=1.2),(0,0), 0.1),1)\n",
    "plt.imshow(obs);\n",
    "dists = find(obs)[:5]\n",
    "print(f'{dists[0][0]} - {dists[1][0]}')\n",
    "best = dists[b][1]\n",
    "plt.subplot(1,2,2)\n",
    "plt.imshow(imgs[best]);"
   ]
  },
  {
   "cell_type": "markdown",
   "metadata": {},
   "source": [
    "## k-means"
   ]
  },
  {
   "cell_type": "markdown",
   "metadata": {},
   "source": [
    "Para intentar acelerar el tiempo de detección vamos a construir un \"vocabulario visual\" agrupando los puntos SIFT en un conjunto de, por ejemplo, 500 tipos. "
   ]
  },
  {
   "cell_type": "code",
   "execution_count": null,
   "metadata": {},
   "outputs": [],
   "source": [
    "import pickle\n",
    "\n",
    "\n",
    "from sklearn.cluster import KMeans\n",
    "#from sklearn.externals import joblib"
   ]
  },
  {
   "cell_type": "markdown",
   "metadata": {},
   "source": [
    "El proceso require varios minutos (dependiendo del ordenador, del número de puntos y de categorías puede superar media hora), por lo que lo almacenamos."
   ]
  },
  {
   "cell_type": "code",
   "execution_count": null,
   "metadata": {},
   "outputs": [],
   "source": [
    "%%time\n",
    "\n",
    "if False:\n",
    "    #codebook = KMeans(n_clusters=500, random_state=0).fit(points[np.random.choice(len(points), 100000)])\n",
    "    codebook = KMeans(n_clusters=500, random_state=0).fit(points)\n",
    "    with open('codebook.pkl', 'wb') as handle:\n",
    "        pickle.dump(codebook, handle, protocol=pickle.HIGHEST_PROTOCOL)\n",
    "else:\n",
    "    with open('../data/codebook.pkl', 'rb') as handle:\n",
    "        codebook = pickle.load(handle)"
   ]
  },
  {
   "cell_type": "code",
   "execution_count": null,
   "metadata": {},
   "outputs": [],
   "source": [
    "# to fix a strange error\n",
    "codebook.cluster_centers_ = codebook.cluster_centers_.astype(float)"
   ]
  },
  {
   "cell_type": "markdown",
   "metadata": {},
   "source": [
    "Los descriptores de cada punto SIFT se sustituyen por la etiqueta del *cluster* más próximo:"
   ]
  },
  {
   "cell_type": "code",
   "execution_count": null,
   "metadata": {},
   "outputs": [],
   "source": [
    "codebook.predict(sift(imgs[1]))"
   ]
  },
  {
   "cell_type": "markdown",
   "metadata": {},
   "source": [
    "Por curiosidad, mostramos la distribución de distancias de cada punto a su cluster."
   ]
  },
  {
   "cell_type": "code",
   "execution_count": null,
   "metadata": {},
   "outputs": [],
   "source": [
    "desc = sift(imgs[1])\n",
    "index = codebook.predict(desc)\n",
    "r = codebook.cluster_centers_[index] - desc\n",
    "d = np.sqrt((r**2).sum(axis=1))\n",
    "plt.hist(d);"
   ]
  },
  {
   "cell_type": "markdown",
   "metadata": {},
   "source": [
    "Las imágenes se representarán mediante el histograma de códigos de descriptores. (Teniendo en cuenta solo aquellos que están suficientemente cerca del cluster asignado. No está claro si esto tiene influencia positiva.)"
   ]
  },
  {
   "cell_type": "code",
   "execution_count": null,
   "metadata": {},
   "outputs": [],
   "source": [
    "def getcode(x):\n",
    "    desc = sift(x)\n",
    "    index = codebook.predict(desc)\n",
    "    r = codebook.cluster_centers_[index] - desc\n",
    "    d = np.sqrt((r**2).sum(axis=1))\n",
    "    return np.histogram(index[d<250],np.arange(codebook.n_clusters+1))[0]"
   ]
  },
  {
   "cell_type": "markdown",
   "metadata": {},
   "source": [
    "Veamos el histograma de un par de imágenes:"
   ]
  },
  {
   "cell_type": "code",
   "execution_count": null,
   "metadata": {},
   "outputs": [],
   "source": [
    "plt.plot(getcode(imgs[1]));"
   ]
  },
  {
   "cell_type": "code",
   "execution_count": null,
   "metadata": {},
   "outputs": [],
   "source": [
    "plt.plot(getcode(imgs[35]));"
   ]
  },
  {
   "cell_type": "markdown",
   "metadata": {},
   "source": [
    "Calculamos los histogramas de toda la colección y los almacenamos."
   ]
  },
  {
   "cell_type": "code",
   "execution_count": null,
   "metadata": {},
   "outputs": [],
   "source": [
    "%%time\n",
    "\n",
    "if False:\n",
    "    imagecodes = [getcode(x) for x in imgs]\n",
    "    pickle.dump( imagecodes, open( \"imagecodes.p\", \"wb\" ) )\n",
    "else:\n",
    "    imagecodes = pickle.load( open( \"../data/imagecodes.p\", \"rb\" ) )"
   ]
  },
  {
   "cell_type": "markdown",
   "metadata": {},
   "source": [
    "Para comparar este tipo de histogramas la similitud la medimos con la suma de mínimos en cada caja (intersección). La idea es que para que haya una coincidencia, los puntos deberían ir a la misma caja del histograma. Se normaliza el valor con el número total de puntos, intentando potenciar que se cubra lo más posible el modelo."
   ]
  },
  {
   "cell_type": "code",
   "execution_count": null,
   "metadata": {},
   "outputs": [],
   "source": [
    "def simil(u,v):\n",
    "    t = max(u.sum(),v.sum())\n",
    "    return np.minimum(u,v).sum()/t\n",
    "\n",
    "\n",
    "def find(x):\n",
    "    v = getcode(x)\n",
    "    print(v.sum())\n",
    "    dists = sorted([(simil(v,u),k) for k,u in enumerate(imagecodes)])[::-1]\n",
    "    return dists"
   ]
  },
  {
   "cell_type": "markdown",
   "metadata": {},
   "source": [
    "Como primera prueba, vemos la similitud de uno de los modelos con toda la colección. El mejor es él mismo, con similitud perfecta (1.0) y el siguiente queda muy lejos."
   ]
  },
  {
   "cell_type": "code",
   "execution_count": null,
   "metadata": {},
   "outputs": [],
   "source": [
    "find(imgs[1])[:10]"
   ]
  },
  {
   "cell_type": "markdown",
   "metadata": {},
   "source": [
    "Esta misma información en forma de histograma:"
   ]
  },
  {
   "cell_type": "code",
   "execution_count": null,
   "metadata": {},
   "outputs": [],
   "source": [
    "plt.hist([x[0] for x in find(imgs[1])]);"
   ]
  },
  {
   "cell_type": "markdown",
   "metadata": {},
   "source": [
    "Sin embargo, cuando modificamos bastante la imagen, las distancias se igualan mucho. Y en este caso concreto la imagen correcta queda en posición 9..."
   ]
  },
  {
   "cell_type": "code",
   "execution_count": null,
   "metadata": {},
   "outputs": [],
   "source": [
    "orig = imgs[50]\n",
    "obs  = cv.GaussianBlur(cv.resize(orig,(0,0), fx=0.7, fy=0.7),(0,0), 2)\n",
    "print(simil(getcode(orig),getcode(obs)))\n",
    "dists = find(obs)\n",
    "plt.hist([x[0] for x in dists])\n",
    "find(obs)[:15]"
   ]
  },
  {
   "cell_type": "markdown",
   "metadata": {},
   "source": [
    "La mayor similitud no siempre corresponde con el modelo correcto. Lo importante es que éste quede en las primeras posiciones, de modo que podamos aplicar la técnica de coincidencias más precisa sólo con los, p. ej. 20, mejores candidatos, en lugar de los más de 100 modelos de toda la colección."
   ]
  },
  {
   "cell_type": "code",
   "execution_count": null,
   "metadata": {},
   "outputs": [],
   "source": [
    "k = 0\n",
    "b = 0\n",
    "fig(10,5)\n",
    "plt.subplot(1,2,1)\n",
    "plt.imshow(cosas[k]);\n",
    "dists = find(cosas[k])\n",
    "print(f'{dists[0][0]:.2f} - {dists[1][0]:.2f}')\n",
    "best = dists[b][1]\n",
    "plt.subplot(1,2,2)\n",
    "plt.imshow(imgs[best]);"
   ]
  },
  {
   "cell_type": "code",
   "execution_count": null,
   "metadata": {},
   "outputs": [],
   "source": [
    "plt.hist([x[0] for x in dists]);"
   ]
  }
 ],
 "metadata": {
  "hide_input": false,
  "kernelspec": {
   "display_name": "Python 3 (ipykernel)",
   "language": "python",
   "name": "python3"
  },
  "language_info": {
   "codemirror_mode": {
    "name": "ipython",
    "version": 3
   },
   "file_extension": ".py",
   "mimetype": "text/x-python",
   "name": "python",
   "nbconvert_exporter": "python",
   "pygments_lexer": "ipython3",
   "version": "3.11.11"
  },
  "varInspector": {
   "cols": {
    "lenName": 16,
    "lenType": 16,
    "lenVar": 40
   },
   "kernels_config": {
    "python": {
     "delete_cmd_postfix": "",
     "delete_cmd_prefix": "del ",
     "library": "var_list.py",
     "varRefreshCmd": "print(var_dic_list())"
    },
    "r": {
     "delete_cmd_postfix": ") ",
     "delete_cmd_prefix": "rm(",
     "library": "var_list.r",
     "varRefreshCmd": "cat(var_dic_list()) "
    }
   },
   "types_to_exclude": [
    "module",
    "function",
    "builtin_function_or_method",
    "instance",
    "_Feature"
   ],
   "window_display": false
  },
  "widgets": {
   "state": {
    "2307db0288c6461cacd6e3219a065fa4": {
     "views": [
      {
       "cell_index": 29
      }
     ]
    },
    "580ca9ec321c46ad8fb2472a8614be09": {
     "views": [
      {
       "cell_index": 31
      }
     ]
    },
    "694afa53a82148e8a108c71ca061d685": {
     "views": [
      {
       "cell_index": 32
      }
     ]
    },
    "c80fe96f6027407b9804fadc5941c1b7": {
     "views": [
      {
       "cell_index": 23
      }
     ]
    }
   },
   "version": "1.2.0"
  }
 },
 "nbformat": 4,
 "nbformat_minor": 4
}

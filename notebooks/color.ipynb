{
 "cells": [
  {
   "cell_type": "markdown",
   "metadata": {},
   "source": [
    "# Color"
   ]
  },
  {
   "cell_type": "markdown",
   "metadata": {
    "heading_collapsed": true
   },
   "source": [
    "## Percepción del color"
   ]
  },
  {
   "cell_type": "markdown",
   "metadata": {
    "hidden": true
   },
   "source": [
    "La percepción del color tiene en cuenta el contexto. El valor RGB de un pixel puede corresponder a diferentes percepciones subjetivas."
   ]
  },
  {
   "cell_type": "markdown",
   "metadata": {
    "heading_collapsed": true,
    "hidden": true
   },
   "source": [
    "### caso 1"
   ]
  },
  {
   "cell_type": "markdown",
   "metadata": {
    "editable": true,
    "hidden": true,
    "slideshow": {
     "slide_type": ""
    },
    "tags": []
   },
   "source": [
    "![color1](../images/color/chrmadp3.jpg)"
   ]
  },
  {
   "cell_type": "markdown",
   "metadata": {
    "editable": true,
    "slideshow": {
     "slide_type": ""
    },
    "tags": []
   },
   "source": [
    "Iluminación natural:\n",
    "\n",
    "```{toggle}\n",
    "![color2](../images/color/chrmadp1.jpg)\n",
    "```\n",
    "\n",
    "Color observado:\n",
    "\n",
    "```{toggle}\n",
    "![color3](../images/color/chrmadp2.jpg)\n",
    "```"
   ]
  },
  {
   "cell_type": "markdown",
   "metadata": {
    "heading_collapsed": true,
    "hidden": true
   },
   "source": [
    "### caso 2"
   ]
  },
  {
   "cell_type": "markdown",
   "metadata": {
    "editable": true,
    "hidden": true,
    "slideshow": {
     "slide_type": ""
    },
    "tags": []
   },
   "source": [
    "![gray1](../images/color/greysquares.jpg)"
   ]
  },
  {
   "cell_type": "markdown",
   "metadata": {
    "editable": true,
    "slideshow": {
     "slide_type": ""
    },
    "tags": []
   },
   "source": [
    "Quitando la sombra:\n",
    "\n",
    "```{toggle}\n",
    "![gray2](../images/color/greysquares2.jpg)\n",
    "```"
   ]
  },
  {
   "cell_type": "markdown",
   "metadata": {
    "heading_collapsed": true
   },
   "source": [
    "## Fundamentos"
   ]
  },
  {
   "cell_type": "markdown",
   "metadata": {
    "hidden": true
   },
   "source": [
    "[color en wikipedia](https://en.wikipedia.org/wiki/Color), [color en hyperphysics](http://hyperphysics.phy-astr.gsu.edu/hbase/vision/colviscon.html#c1)"
   ]
  },
  {
   "cell_type": "markdown",
   "metadata": {
    "hidden": true
   },
   "source": [
    "[espectro visible](https://en.wikipedia.org/wiki/Visible_spectrum#Spectral_colors), [LMS](https://en.wikipedia.org/wiki/Trichromacy)"
   ]
  },
  {
   "cell_type": "markdown",
   "metadata": {},
   "source": [
    "[Tutorial](https://www.eecs.yorku.ca/~mbrown/ICCV19_Tutorial_MSBrown.pdf)"
   ]
  },
  {
   "cell_type": "markdown",
   "metadata": {},
   "source": [
    "## Codificación del color"
   ]
  },
  {
   "cell_type": "markdown",
   "metadata": {
    "heading_collapsed": true
   },
   "source": [
    "Canales de color"
   ]
  },
  {
   "cell_type": "code",
   "execution_count": null,
   "metadata": {
    "hidden": true
   },
   "outputs": [],
   "source": [
    "import numpy             as np\n",
    "import cv2               as cv\n",
    "import skimage           as si\n",
    "import skimage.color     as col\n",
    "import matplotlib.pyplot as plt"
   ]
  },
  {
   "cell_type": "code",
   "execution_count": null,
   "metadata": {
    "hidden": true
   },
   "outputs": [],
   "source": [
    "def fig(w,h):\n",
    "    return plt.figure(figsize=(w,h))\n",
    "\n",
    "def readrgb(file):\n",
    "    return cv.cvtColor( cv.imread(\"../images/\"+file), cv.COLOR_BGR2RGB) \n",
    "\n",
    "def rgb2yuv(x):\n",
    "    return cv.cvtColor(x,cv.COLOR_RGB2YUV)\n",
    "\n",
    "def yuv2rgb(x):\n",
    "    return cv.cvtColor(x,cv.COLOR_YUV2RGB)\n",
    "\n",
    "from matplotlib.pyplot import subplot, imshow, title"
   ]
  },
  {
   "cell_type": "markdown",
   "metadata": {
    "hidden": true
   },
   "source": [
    "El espacio de color [YUV](https://en.wikipedia.org/wiki/YUV) contiene en Y la intensidad de luz (monocromo, nivel de gris), y en UV codifica el color, independientemente de la intensidad."
   ]
  },
  {
   "cell_type": "code",
   "execution_count": null,
   "metadata": {
    "hidden": true
   },
   "outputs": [],
   "source": [
    "rgb = readrgb(\"cube3.png\")\n",
    "mono = cv.cvtColor(rgb,cv.COLOR_RGB2GRAY)\n",
    "\n",
    "yuv = rgb2yuv(rgb)\n",
    "hsv = cv.cvtColor(rgb,cv.COLOR_RGB2HSV)\n",
    "hls = cv.cvtColor(rgb,cv.COLOR_RGB2HLS)\n",
    "lab = cv.cvtColor(rgb,cv.COLOR_RGB2Lab)\n",
    "xyz = cv.cvtColor(rgb,cv.COLOR_RGB2XYZ)\n",
    "xyz2 = col.rgb2xyz(rgb)"
   ]
  },
  {
   "cell_type": "code",
   "execution_count": null,
   "metadata": {
    "hidden": true
   },
   "outputs": [],
   "source": [
    "fig(10,12)\n",
    "plt.set_cmap('gray')\n",
    "\n",
    "subplot(3,2,1); imshow(rgb); title('original')\n",
    "subplot(3,2,2); imshow(rgb[:,:,0]); title('canal rojo  R')\n",
    "subplot(3,2,3); imshow(rgb[:,:,1]); title('canal verde G')\n",
    "subplot(3,2,4); imshow(rgb[:,:,2]); title('canal azul  B')\n",
    "subplot(3,2,5); imshow(yuv[:,:,1]); title('canal U')\n",
    "subplot(3,2,6); imshow(yuv[:,:,2]); title('canal V');"
   ]
  },
  {
   "cell_type": "markdown",
   "metadata": {
    "hidden": true
   },
   "source": [
    "El espacio [HSL](https://en.wikipedia.org/wiki/HSL_and_HSV#HSL) tiene canales de \"tono\" de color H (*hue*), saturación (S), y _lightness_ (L)."
   ]
  },
  {
   "cell_type": "code",
   "execution_count": null,
   "metadata": {
    "hidden": true
   },
   "outputs": [],
   "source": [
    "fig(10,8)\n",
    "subplot(2,2,1); imshow(rgb), title('original')\n",
    "\n",
    "x = yuv.copy()\n",
    "x[:,:,0] = 128\n",
    "y = yuv2rgb(x)\n",
    "subplot(2,2,2); imshow(y); title('constant Y')\n",
    "\n",
    "z = hls.copy()\n",
    "z[:,:,2] = 32\n",
    "w = cv.cvtColor(z,cv.COLOR_HLS2RGB)\n",
    "subplot(2,2,3); imshow(w); title('poca saturación')\n",
    "\n",
    "z[:,:,2] = 255\n",
    "w = cv.cvtColor(z,cv.COLOR_HLS2RGB)\n",
    "subplot(2,2,4); imshow(w); title('máxima saturación');"
   ]
  },
  {
   "cell_type": "markdown",
   "metadata": {
    "hidden": true
   },
   "source": [
    "L de HLS y V de HSV son aproximaciones a la información de intensidad, pero incluyen información cromática."
   ]
  },
  {
   "cell_type": "code",
   "execution_count": null,
   "metadata": {
    "hidden": true,
    "hide_input": false
   },
   "outputs": [],
   "source": [
    "fig(10,12)\n",
    "subplot(3,2,1); imshow(mono); title('mono')\n",
    "subplot(3,2,2); imshow(yuv[:,:,0]); title('canal Y')\n",
    "subplot(3,2,3); imshow(hls[:,:,1]); title('canal L');\n",
    "subplot(3,2,4); imshow(hsv[:,:,2]); title('canal V');\n",
    "subplot(3,2,5); imshow(lab[:,:,0]); title('canal L (Lab)');\n",
    "subplot(3,2,6); imshow(xyz[:,:,1]); title('canal Y (XYZ)');"
   ]
  },
  {
   "cell_type": "code",
   "execution_count": null,
   "metadata": {
    "hidden": true,
    "hide_input": false
   },
   "outputs": [],
   "source": [
    "if False:\n",
    "    print(abs(mono - yuv[:,:,0]).max())\n",
    "    print(abs(mono - hls[:,:,1]).mean())\n",
    "    print(abs(mono - hsv[:,:,2]).mean())\n",
    "    print(abs(mono - lab[:,:,0]).mean())\n",
    "    print(abs(mono - xyz[:,:,1]).mean())"
   ]
  },
  {
   "cell_type": "markdown",
   "metadata": {
    "hidden": true
   },
   "source": [
    "Mostramos la gama de colores de diferentes espacios de color para varios valores del canal más relacionado con la intensidad."
   ]
  },
  {
   "cell_type": "code",
   "execution_count": null,
   "metadata": {
    "hidden": true
   },
   "outputs": [],
   "source": [
    "r,c = np.mgrid[0:256,0:256]\n",
    "test = np.zeros((256,256,3),np.uint8)"
   ]
  },
  {
   "cell_type": "code",
   "execution_count": null,
   "metadata": {
    "hidden": true
   },
   "outputs": [],
   "source": [
    "test[:,:,1] = r\n",
    "test[:,:,2] = c\n",
    "fig(18,4);\n",
    "plt.suptitle('YUV')\n",
    "for k,v in enumerate([64,128,192,255]):\n",
    "    subplot(1,4,k+1); test[:,:,0] = v; plt.imshow(cv.cvtColor(test,cv.COLOR_YUV2RGB));"
   ]
  },
  {
   "cell_type": "code",
   "execution_count": null,
   "metadata": {
    "hidden": true
   },
   "outputs": [],
   "source": [
    "test[:,:,0] = r\n",
    "test[:,:,2] = c\n",
    "fig(18,4);\n",
    "plt.suptitle('HLS')\n",
    "for k,v in enumerate([64,128,192,255]):\n",
    "    subplot(1,4,k+1); test[:,:,1] = v;  plt.imshow(cv.cvtColor(test,cv.COLOR_HLS2RGB));"
   ]
  },
  {
   "cell_type": "markdown",
   "metadata": {
    "hidden": true
   },
   "source": [
    "El canal H (*hue*, tono de color) solo toma valores **0-179**. El resto hasta 255 repite los colores (es un ángulo en el espacio de color). Además, el intervalo correspondiente al rojo está desconectado, lo que debe tenerse en cuenta en determinadas aplicaciones de detección de color."
   ]
  },
  {
   "cell_type": "code",
   "execution_count": null,
   "metadata": {
    "hidden": true
   },
   "outputs": [],
   "source": [
    "test[:,:,0] = r\n",
    "test[:,:,1] = c\n",
    "fig(18,4);\n",
    "plt.suptitle('HSV')\n",
    "for k,v in enumerate([64,128,192,255]):\n",
    "    subplot(1,4,k+1); test[:,:,2] = v;  plt.imshow(cv.cvtColor(test[:180],cv.COLOR_HSV2RGB));"
   ]
  },
  {
   "cell_type": "code",
   "execution_count": null,
   "metadata": {
    "hidden": true
   },
   "outputs": [],
   "source": [
    "test[:,:,1] = r\n",
    "test[:,:,2] = c\n",
    "fig(18,4);\n",
    "plt.suptitle('Lab')\n",
    "for k,v in enumerate([64,128,192,255]):\n",
    "    subplot(1,4,k+1); test[:,:,0] = v; plt.imshow(cv.cvtColor(test,cv.COLOR_Lab2RGB));"
   ]
  },
  {
   "cell_type": "code",
   "execution_count": null,
   "metadata": {
    "hidden": true
   },
   "outputs": [],
   "source": [
    "test[:,:,1] = r\n",
    "test[:,:,2] = c\n",
    "fig(18,4);\n",
    "plt.suptitle('Luv')\n",
    "for k,v in enumerate([64,128,192,255]):\n",
    "    subplot(1,4,k+1); test[:,:,0] = v; plt.imshow(cv.cvtColor(test,cv.COLOR_Luv2RGB));"
   ]
  },
  {
   "cell_type": "code",
   "execution_count": null,
   "metadata": {
    "hidden": true
   },
   "outputs": [],
   "source": [
    "test[:,:,0] = r\n",
    "test[:,:,2] = c\n",
    "fig(18,4);\n",
    "plt.suptitle('XYZ')\n",
    "for k,v in enumerate([64,128,192,255]):\n",
    "    subplot(1,4,k+1); test[:,:,1] = v; plt.imshow(cv.cvtColor(test,cv.COLOR_XYZ2RGB));"
   ]
  },
  {
   "cell_type": "markdown",
   "metadata": {
    "hidden": true
   },
   "source": [
    "[oklab](https://bottosson.github.io/posts/oklab/),  [análisis](https://raphlinus.github.io/color/2021/01/18/oklab-critique.html)"
   ]
  },
  {
   "cell_type": "markdown",
   "metadata": {
    "heading_collapsed": true
   },
   "source": [
    "## Umbralización"
   ]
  },
  {
   "cell_type": "markdown",
   "metadata": {
    "hidden": true
   },
   "source": [
    "`cv.inRange`"
   ]
  },
  {
   "cell_type": "markdown",
   "metadata": {
    "heading_collapsed": true,
    "hidden": true
   },
   "source": [
    "### ROIs"
   ]
  },
  {
   "cell_type": "markdown",
   "metadata": {},
   "source": [
    "![rois-1.png](https://raw.githubusercontent.com/albertoruiz/umucv/master/images/demos/rois-2.png)"
   ]
  },
  {
   "cell_type": "markdown",
   "metadata": {
    "heading_collapsed": true,
    "hidden": true
   },
   "source": [
    "### input"
   ]
  },
  {
   "cell_type": "markdown",
   "metadata": {},
   "source": [
    "![rois-1.png](https://raw.githubusercontent.com/albertoruiz/umucv/master/images/demos/fruits.png)"
   ]
  },
  {
   "cell_type": "markdown",
   "metadata": {
    "heading_collapsed": true,
    "hidden": true
   },
   "source": [
    "### mask"
   ]
  },
  {
   "cell_type": "markdown",
   "metadata": {},
   "source": [
    "![rois-1.png](https://raw.githubusercontent.com/albertoruiz/umucv/master/images/demos/mask.png)"
   ]
  },
  {
   "cell_type": "markdown",
   "metadata": {
    "heading_collapsed": true,
    "hidden": true
   },
   "source": [
    "### masked input"
   ]
  },
  {
   "cell_type": "markdown",
   "metadata": {},
   "source": [
    "![rois-1.png](https://raw.githubusercontent.com/albertoruiz/umucv/master/images/demos/masked.png)"
   ]
  },
  {
   "cell_type": "markdown",
   "metadata": {
    "heading_collapsed": true,
    "hidden": true
   },
   "source": [
    "### ROIs"
   ]
  },
  {
   "cell_type": "markdown",
   "metadata": {},
   "source": [
    "![rois-1.png](https://raw.githubusercontent.com/albertoruiz/umucv/master/images/demos/rois-1.png)"
   ]
  },
  {
   "cell_type": "markdown",
   "metadata": {
    "hidden": true
   },
   "source": [
    "### Contours"
   ]
  },
  {
   "cell_type": "markdown",
   "metadata": {},
   "source": [
    "![contours.png](https://raw.githubusercontent.com/albertoruiz/umucv/master/images/demos/contours.png)"
   ]
  }
 ],
 "metadata": {
  "hide_input": false,
  "kernelspec": {
   "display_name": "Python 3 (ipykernel)",
   "language": "python",
   "name": "python3"
  },
  "language_info": {
   "codemirror_mode": {
    "name": "ipython",
    "version": 3
   },
   "file_extension": ".py",
   "mimetype": "text/x-python",
   "name": "python",
   "nbconvert_exporter": "python",
   "pygments_lexer": "ipython3",
   "version": "3.11.11"
  },
  "varInspector": {
   "cols": {
    "lenName": 16,
    "lenType": 16,
    "lenVar": 40
   },
   "kernels_config": {
    "python": {
     "delete_cmd_postfix": "",
     "delete_cmd_prefix": "del ",
     "library": "var_list.py",
     "varRefreshCmd": "print(var_dic_list())"
    },
    "r": {
     "delete_cmd_postfix": ") ",
     "delete_cmd_prefix": "rm(",
     "library": "var_list.r",
     "varRefreshCmd": "cat(var_dic_list()) "
    }
   },
   "types_to_exclude": [
    "module",
    "function",
    "builtin_function_or_method",
    "instance",
    "_Feature"
   ],
   "window_display": false
  }
 },
 "nbformat": 4,
 "nbformat_minor": 4
}

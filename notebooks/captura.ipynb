{
 "cells": [
  {
   "cell_type": "markdown",
   "metadata": {},
   "source": [
    "# Dispositivos de captura"
   ]
  },
  {
   "cell_type": "markdown",
   "metadata": {},
   "source": [
    "Para hacer experimentos de visión artificial nos interesa acceder cómodamente a cualquier fuente de imágenes, almacenada localmente o disponible en un servidor remoto. Por ejemplo:\n",
    "\n",
    "- archivos de imagen (jpg, png, tif, bmp, etc.) \n",
    "\n",
    "- archivos de video (avi, mp4, etc.)\n",
    "\n",
    "- secuencias \"en vivo\" tomadas de una webcam, cámara ip, o smartphone."
   ]
  },
  {
   "cell_type": "markdown",
   "metadata": {},
   "source": [
    "El paquete `umucv` simplifica esta tarea."
   ]
  },
  {
   "cell_type": "markdown",
   "metadata": {},
   "source": [
    "## autoStream"
   ]
  },
  {
   "cell_type": "markdown",
   "metadata": {},
   "source": [
    "La función `autoStream()` proporciona una secuencia de imágenes seleccionada en la línea de comandos. El dispositivo de captura se indica con `--dev`, la resolución deseada  con `--size`, forzar un reescalado con `--resize`, la repetición de un video con `--loop` y la ejecución frame a frame con `--step`.\n",
    "\n",
    "    from umucv.stream import autoStream\n",
    "\n",
    "    source = autoStream()\n",
    "\n",
    "    for (key, frame) in source:\n",
    "        #procesamos cada fotograma\n",
    "\n",
    "Esta función gestiona automáticamente la tecla ESC para terminar, SPACE para hacer pausas, '.' para activar/desactivar el avance frame a frame (pulsando otra tecla no asignada), y S para guardar en disco la imagen de entrada actual.\n",
    "\n",
    "Se puede pedir ayuda con `--dev=help`"
   ]
  },
  {
   "cell_type": "markdown",
   "metadata": {},
   "source": [
    "Por omisión el dispositivo es la cámara /dev/video0. Para cambiar de webcam y solicitar un tamaño hacemos:\n",
    "\n",
    "    ./programa.py --dev=1 --size=320x240\n",
    "\n",
    "Podemos procesar una lista de imágenes tomadas de un directorio:\n",
    "\n",
    "    ./programa.py --dev=glob:../images/ccorr/scenes/*.png\n",
    "\n",
    "Otra forma de hacer lo mismo, pero visualizando las imágenes disponibles en una ventana, avanzando de una en una con las teclas del ratón:\n",
    "\n",
    "    ./programa.py --dev=dir:../images/ccorr/scenes/*.png\n",
    "\n",
    "Se admiten archivos de vídeo (locales o remotos):\n",
    "\n",
    "    ./programa.py --dev=../images/rot4.mjpg\n",
    "        \n",
    "También se admiten *streams* en vivo remotos, generados por [cámaras online](https://en.wikipedia.org/wiki/IP_camera#Video_standards). Por ejemplo:\n",
    "\n",
    "    ./programa.py --dev=https://iihrwc02.iowa.uiowa.edu/axis-cgi/mjpg/video.cgi?resolution=704x480\n",
    "\n",
    "Algunos (cada vez menos) canales de TV emiten streams. Por ejemplo:\n",
    "\n",
    "    https://ztnr.rtve.es/ztnr/1688877.m3u8\n",
    "\n",
    "\n",
    "La *app* \"IP Webcam\" incluye un servidor mjpeg en los smartphones, que permite utilizarlos como fuente de imágenes para los ejercicios.\n",
    "\n",
    "    ./programa.py --dev=http://155.54.X.Y:8080/video\n",
    "\n",
    "La *app* \"VXG RTSP Server (IP camera)\" es un servidor rtsp con codificación H264, que utiza menos ancho de banda:\n",
    "\n",
    "    ./programa.py --dev=rtsp://155.54.X.Y:5540/ch0\n",
    "    \n",
    "En los teléfonos se recomienda desactivar el audio, poner un tamaño de imagen no muy grande y en su caso limitar el bitrate.\n",
    "\n",
    "Para leer vídeos de youtube se puede utilizar el paquete [`yt-dlp`](https://github.com/yt-dlp/) (`pip install yt-dlp`). Los streams disponibles de un vídeo se consultan con:\n",
    "\n",
    "    yt-dlp -F C6LuDdY-KrQ\n",
    "\n",
    "Y luego indicamos el stream deseado:\n",
    "\n",
    "    ./programa.py --dev $(yt-dlp -f 605 --get-url C6LuDdY-KrQ)\n",
    "\n",
    "\n",
    "Se pueden definir abreviaturas en un archivo **alias.txt** ubicado en el directorio actual o en alguno de los superiores."
   ]
  },
  {
   "cell_type": "markdown",
   "metadata": {},
   "source": [
    "## Servidor mjpg"
   ]
  },
  {
   "cell_type": "markdown",
   "metadata": {},
   "source": [
    "Hemos incluido una utilidad para crear \"streams\" en formato mjpeg:\n",
    "\n",
    "- ./`mjpegserver.py`: crea un stream mjpeg a partir de cualquier dispositivo de los anteriores. La idea es transformar de alguna manera la secuencia capturada. Por ejemplo:\n",
    "\n",
    "        ./mjpegserver.py --dev=2 --size=320x240 --quality=50\n",
    "        \n",
    "    Este stream se captura con\n",
    "    \n",
    "        ./programa.py --dev=http://<IP-DEL-SERVIDOR>:8087/cam.mjpg"
   ]
  },
  {
   "cell_type": "markdown",
   "metadata": {},
   "source": [
    "### Visualización en páginas web"
   ]
  },
  {
   "cell_type": "markdown",
   "metadata": {},
   "source": [
    "Los documentos html permiten visualizar video directamente con elementos `<video>`. Para visualizar streams `mjpg` en vivo se usa directamente un elemento `<img src='http:...' >`. "
   ]
  },
  {
   "cell_type": "markdown",
   "metadata": {},
   "source": [
    "## Control de la webcam"
   ]
  },
  {
   "cell_type": "markdown",
   "metadata": {},
   "source": [
    "En la consola de linux usamos **v4l2-ctl**. Los controles disponibles en cada cámara se consultan con:\n",
    "\n",
    "    v4l2-ctl -l\n",
    "\n",
    "Activar o desactivar la eliminación de oscilaciones producidas por la luz eléctrica:\n",
    "\n",
    "        v4l2-ctl -d /dev/video0 -c power_line_frequency=1\n",
    "        v4l2-ctl -d /dev/video0 -c power_line_frequency=0\n",
    "\n",
    "Fijar el nivel de exposición:\n",
    "\n",
    "    v4l2-ctl -d /dev/video0 -c exposure_auto=1 -c exposure_absolute=100\n",
    "    v4l2-ctl -d /dev/video0 -c exposure_auto=1 -c exposure_absolute=1000\n",
    "\n",
    "Exposición automática:\n",
    "\n",
    "    v4l2-ctl -d /dev/video0 -c exposure_auto=3\n",
    "\n",
    "Enfoque fijo:\n",
    "\n",
    "    v4l2-ctl -d /dev/video0 -c focus=255\n",
    "    v4l2-ctl -d /dev/video0 -c focus=0\n",
    "\n",
    "La aplicación *guvcview* permite modificar los parámetros con un interfaz gráfico. Si la invocamos con la opción --control-panel se puede usar a la vez que nuestra aplicación.\n",
    "\n",
    "El reproductor multimedia VLC (disponible en Linux y Windows) también lo permite."
   ]
  }
 ],
 "metadata": {
  "hide_input": false,
  "kernelspec": {
   "display_name": "Python 3 (ipykernel)",
   "language": "python",
   "name": "python3"
  },
  "language_info": {
   "codemirror_mode": {
    "name": "ipython",
    "version": 3
   },
   "file_extension": ".py",
   "mimetype": "text/x-python",
   "name": "python",
   "nbconvert_exporter": "python",
   "pygments_lexer": "ipython3",
   "version": "3.11.11"
  },
  "varInspector": {
   "cols": {
    "lenName": 16,
    "lenType": 16,
    "lenVar": 40
   },
   "kernels_config": {
    "python": {
     "delete_cmd_postfix": "",
     "delete_cmd_prefix": "del ",
     "library": "var_list.py",
     "varRefreshCmd": "print(var_dic_list())"
    },
    "r": {
     "delete_cmd_postfix": ") ",
     "delete_cmd_prefix": "rm(",
     "library": "var_list.r",
     "varRefreshCmd": "cat(var_dic_list()) "
    }
   },
   "types_to_exclude": [
    "module",
    "function",
    "builtin_function_or_method",
    "instance",
    "_Feature"
   ],
   "window_display": false
  }
 },
 "nbformat": 4,
 "nbformat_minor": 4
}

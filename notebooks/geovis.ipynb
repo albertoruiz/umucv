{
 "cells": [
  {
   "cell_type": "markdown",
   "metadata": {},
   "source": [
    "# Geometría visual"
   ]
  },
  {
   "cell_type": "markdown",
   "metadata": {},
   "source": [
    "<img src=\"../images/demos/hzbook.jpg\" alt=\"image\" width=\"200\">\n",
    "\n",
    "El objetivo de la tercera parte de la asignatura es **medir el espacio** real a partir de las imágenes. Queremos deshacer la deformación de **perspectiva**.\n",
    "\n",
    "¿A qué distancia de la portería está el jugador?\n",
    "\n",
    "<img src=\"../images/gol-eder.png\" width=\"600px\"/>\n",
    "\n",
    "Aquí hay otro punto de vista de la misma escena. Tiene menos inclinación pero sigue sin ser un \"mapa\" a escala uniforme del campo.\n",
    "\n",
    "<img src=\"../images/demos/gol2-eder.jpg\" width=\"600px\"/>\n",
    "\n",
    "¿Qué distancia hay entre las dos monedas?\n",
    "\n",
    "<img src=\"../images/coins.png\" width=\"600px\"/>\n",
    "\n",
    "¿Cuál es la longitud del espacio de fondo de esta pista? ¿A qué altura está la pelota?\n",
    "\n",
    "<img src=\"../images/tennis.jpg\" width=\"400px\"/>\n",
    "\n",
    "Inicialmente intentaremos resolver este tipo de preguntas, que tienen que ver con la geometría del plano. Más adelante estudiaremos escenas 3D generales."
   ]
  },
  {
   "cell_type": "markdown",
   "metadata": {},
   "source": [
    "## Las leyes de la [perspectiva][1]\n",
    "\n",
    "[1]: https://en.wikipedia.org/wiki/Perspective_(graphical)"
   ]
  },
  {
   "cell_type": "markdown",
   "metadata": {},
   "source": [
    "Una imagen es una representación plana del espacio tridimensional.\n",
    "\n",
    "<img src=\"../images/demos/Magritte-human-condition.jpg\" width=\"400px\"/>\n",
    "\n",
    "El tamaño aparente de los objetos disminuye con la distancia.\n",
    "\n",
    "Las líneas paralelas convergen en puntos de fuga.\n",
    "\n",
    "Los planos tienen horizonte.\n",
    "\n",
    "<img src=\"../images/demos/highway.jpg\" width=\"500px\"/>\n",
    "\n",
    "<img src=\"../images/demos/vanishing.jpg\" width=\"500px\"/>\n",
    "\n",
    "<img src=\"../images/demos/puntosfuga.jpg\" width=\"500px\"/>\n",
    "\n",
    "Los primeros artistas trataban de producir un efecto de perspectiva sin mucho éxito.\n",
    "\n",
    "<img src=\"../images/demos/badperspec.jpg\" width=\"400px\"/>\n",
    "\n",
    "![img](../images/demos/savonarola.jpg)\n",
    "\n",
    "Finalmente, gracias en parte a la [geometría proyectiva](https://en.wikipedia.org/wiki/Projective_geometry), se descubrieron las leyes matemáticas de la formación de imágenes.\n",
    "\n",
    "<img src=\"../images/demos/ciudadIdealUrbino.jpg\" width=\"800px\"/>\n",
    "\n",
    "![img](../images/demos/perspec-leonardo.jpg)"
   ]
  },
  {
   "cell_type": "markdown",
   "metadata": {},
   "source": [
    "## Modelo de cámara [pinhole](https://en.wikipedia.org/wiki/Pinhole_camera_model)"
   ]
  },
  {
   "cell_type": "markdown",
   "metadata": {},
   "source": [
    "<img src=\"../images/demos/perspec.jpg\" width=\"400px\"/>\n",
    "<img src=\"../images/demos/durero.jpg\" width=\"600px\"/>\n",
    "\n",
    "Una cámara es esencialmente un **centro de proyección $C$** y un **plano de imagen $P$**. La imagen de un punto del espacio es la intersección de rayo que une el centro óptico con dicho punto.\n",
    "\n",
    "<img src=\"../images/demos/pinhole.svg\" width=\"400px\"/>\n",
    "\n",
    "Esto implica que la imagen es un escalado que depende de la distancia. En el sistema de coordenadas de la cámara:\n",
    "\n",
    "$$ x = f\\; \\frac{X}{Z} \\hspace{3em} y = f\\; \\frac{Y}{Z} $$\n",
    "\n",
    "El hecho de que la transformación de perspectiva involucre una división de coordenadas es aparentemente una complicación. Sin embargo, mediante el uso de [coordendas homogéneas](https://en.wikipedia.org/wiki/Homogeneous_coordinates) se podrá expresar de forma lineal (como un producto matricial), simplificando enormemente el tratamiento mátemático y computacional."
   ]
  },
  {
   "cell_type": "markdown",
   "metadata": {},
   "source": [
    "De esta forma será muy sencillo resolver problemas como los planteados al principio del documento y otros como los siguientes:"
   ]
  },
  {
   "cell_type": "markdown",
   "metadata": {},
   "source": [
    "## Rectificación de planos"
   ]
  },
  {
   "cell_type": "markdown",
   "metadata": {},
   "source": [
    "Este brazo robótico (realizado en el TFG de José Manuel Campillo) debe capturar objetos en su espacio de trabajo.\n",
    "\n",
    "<img src=\"../images/demos/brazo.png\" width=\"600px\"/>\n",
    "\n",
    "Mediante un marcador de forma y dimensiones conocidas podemos establecer un sistema de referencia en todo el plano de la mesa.\n",
    "\n",
    "<img src=\"../images/demos/robotcam.png\" width=\"600px\"/>"
   ]
  },
  {
   "cell_type": "markdown",
   "metadata": {},
   "source": [
    "En ciertas condiciones, un plano visto en perspectiva se puede **rectificar**, para conseguir una vista frontal (fronto-paralela)."
   ]
  },
  {
   "cell_type": "markdown",
   "metadata": {},
   "source": [
    "\n",
    "![tablero](../images/disk1.jpg)\n",
    "\n",
    "![rectified](../images/demos/rectified.png)"
   ]
  },
  {
   "cell_type": "markdown",
   "metadata": {},
   "source": [
    "## Mosaicos panorámicos"
   ]
  },
  {
   "cell_type": "markdown",
   "metadata": {},
   "source": [
    "Las vistas de una escena tomadas desde un mismo punto de vista (centro de proyección) son esencialmente equivalentes y por tanto se pueden unir fácilmente en un marco común.\n",
    "\n",
    "<img src=\"../images/demos/pano.png\" width=\"800px\"/>\n",
    "\n",
    "<!-- <img src=\"slides/data/hg.jpg\" width=\"800px\"/> -->"
   ]
  },
  {
   "cell_type": "markdown",
   "metadata": {},
   "source": [
    "Cuando el ángulo total es grande las panorámicas requieren otro tipo de transformación:"
   ]
  },
  {
   "cell_type": "markdown",
   "metadata": {},
   "source": [
    "![stitched](../images/demos/stitched.jpg)"
   ]
  },
  {
   "cell_type": "markdown",
   "metadata": {},
   "source": [
    "## Image stitching"
   ]
  },
  {
   "cell_type": "markdown",
   "metadata": {},
   "source": [
    "Ocurre lo mismo con **imágenes de un plano** tomadas desde **cualquier** punto de vista. Se pueden unir mediante un procedimiento similar.\n",
    "\n",
    "<img src=\"../images/demos/o1.jpg\" width=\"400px\"/>\n",
    "\n",
    "<img src=\"../images/demos/o2.jpg\" width=\"400px\"/>\n",
    "\n",
    "<img src=\"../images/demos/o3.jpg\" width=\"400px\"/>\n",
    "\n",
    "<img src=\"../images/demos/orto.jpg\" width=\"800px\"/>"
   ]
  },
  {
   "cell_type": "markdown",
   "metadata": {},
   "source": [
    "## Gol fantasma"
   ]
  },
  {
   "cell_type": "markdown",
   "metadata": {},
   "source": [
    "[1966 FIFA World Cup Final](https://en.wikipedia.org/wiki/1966_FIFA_World_Cup_Final)\n",
    "\n",
    "[video](https://www.youtube.com/watch?v=wzz53ZFjJVg)\n",
    "\n",
    "[paper](https://www.robots.ox.ac.uk/~vgg/publications/1996/Reid96/reid96.pdf)\n",
    "\n",
    "<img src=\"../images/demos/gol.jpg\" alt=\"image\" width=\"700\">\n",
    "\n",
    "<img src=\"../images/demos/gol2.jpg\" alt=\"image\" width=\"800\">\n",
    "\n",
    "<img src=\"../images/demos/gol3.jpg\" alt=\"image\" width=\"800\">"
   ]
  },
  {
   "cell_type": "markdown",
   "metadata": {},
   "source": [
    "## Juicio"
   ]
  },
  {
   "cell_type": "markdown",
   "metadata": {},
   "source": [
    "[Nooner vs Norris](https://law.justia.com/cases/federal/district-courts/arkansas/aredce/5:2008cv00003/70467/101/)"
   ]
  },
  {
   "cell_type": "markdown",
   "metadata": {},
   "source": [
    "## Reconstrucción 3D"
   ]
  },
  {
   "cell_type": "markdown",
   "metadata": {},
   "source": [
    "A partir de múltiples vistas de una escena se puede deducir la estructura 3D del espacio y la posición relativa de las cámaras."
   ]
  },
  {
   "cell_type": "markdown",
   "metadata": {},
   "source": [
    "[COLMAP](https://colmap.github.io/)"
   ]
  },
  {
   "cell_type": "markdown",
   "metadata": {},
   "source": [
    "[Meshroom](https://github.com/alicevision/Meshroom)"
   ]
  },
  {
   "cell_type": "markdown",
   "metadata": {},
   "source": [
    "[Gaussian Splatting](https://repo-sam.inria.fr/fungraph/3d-gaussian-splatting/)"
   ]
  },
  {
   "cell_type": "markdown",
   "metadata": {},
   "source": [
    "## Deep Learning"
   ]
  },
  {
   "cell_type": "markdown",
   "metadata": {},
   "source": [
    "[DUSt3r](https://dust3r.europe.naverlabs.com/)"
   ]
  },
  {
   "cell_type": "markdown",
   "metadata": {},
   "source": [
    "[InstantMesh](https://huggingface.co/spaces/TencentARC/InstantMesh)"
   ]
  },
  {
   "cell_type": "markdown",
   "metadata": {},
   "source": [
    "[VGGT](https://huggingface.co/spaces/facebook/vggt)"
   ]
  }
 ],
 "metadata": {
  "hide_input": false,
  "kernelspec": {
   "display_name": "Python 3 (ipykernel)",
   "language": "python",
   "name": "python3"
  },
  "language_info": {
   "codemirror_mode": {
    "name": "ipython",
    "version": 3
   },
   "file_extension": ".py",
   "mimetype": "text/x-python",
   "name": "python",
   "nbconvert_exporter": "python",
   "pygments_lexer": "ipython3",
   "version": "3.11.11"
  },
  "varInspector": {
   "cols": {
    "lenName": 16,
    "lenType": 16,
    "lenVar": 40
   },
   "kernels_config": {
    "python": {
     "delete_cmd_postfix": "",
     "delete_cmd_prefix": "del ",
     "library": "var_list.py",
     "varRefreshCmd": "print(var_dic_list())"
    },
    "r": {
     "delete_cmd_postfix": ") ",
     "delete_cmd_prefix": "rm(",
     "library": "var_list.r",
     "varRefreshCmd": "cat(var_dic_list()) "
    }
   },
   "types_to_exclude": [
    "module",
    "function",
    "builtin_function_or_method",
    "instance",
    "_Feature"
   ],
   "window_display": false
  }
 },
 "nbformat": 4,
 "nbformat_minor": 4
}

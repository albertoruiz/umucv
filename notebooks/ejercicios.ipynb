{
 "cells": [
  {
   "cell_type": "markdown",
   "metadata": {},
   "source": [
    "# Ejercicios entregables"
   ]
  },
  {
   "cell_type": "markdown",
   "metadata": {},
   "source": [
    "## CALIBRACIÓN"
   ]
  },
  {
   "cell_type": "markdown",
   "metadata": {},
   "source": [
    "1. Calibra tu cámara mediante múltiples imágenes de un *chessboard* siguiendo las instrucciones del README en `code/calibrate`. Usa el modo standard o por defecto de la cámara y toma nota de su resolución ($W\\times H$).\n",
    "2. Con el parámetro $f$ obtenido en la calibración, determina el campo visual (FOV, *field of view*) horizontal y vertical.\n",
    "3. Comprueba que estos datos son consistentes con el tamaño de la imagen que obtienes con un objeto de tamaño conocido y situado a una distancia conocida.\n",
    "4. Calcula aproximadamente: a) el tamaño en pixels que tendrá una persona situada a 10m de la cámara. b) A qúe distancia se encuntra un coche que en la imagen tiene 20px del acho.\n",
    "5. Determina a qué altura hay que poner la cámara para obtener una vista cenital completa de un campo de baloncesto.\n",
    "6. Calcula el tamaño en pixels de la pelota cuando está en el suelo.\n",
    "7. Escribe una función que devuelva la altura de la pelota sobre el suelo a partir de su diámetro aparente en pixels.\n",
    "8. Haz una aplicación para medir el ángulo que definen dos puntos marcados con el ratón en la imagen.\n",
    "9. Opcional: determina la posición aproximada desde la que se ha tomado una foto a partir ángulos observados respecto a puntos de referencia conocidos."
   ]
  },
  {
   "cell_type": "markdown",
   "metadata": {},
   "source": [
    "## FILTROS"
   ]
  },
  {
   "cell_type": "markdown",
   "metadata": {},
   "source": [
    "1. Muestra en vivo el efecto de diferentes filtros, seleccionando con el teclado el filtro deseado y modificando sus parámetros (p.ej. el nivel de suavizado) con trackbars. Aplica el filtro en un ROI para comparar el resultado con el resto de la imagen ([ejemplo](../images/demos/ej-c4.png)). Diseña el ejercicio de forma que sea fácilmente ampliable.\n",
    "2. Comprueba la propiedad de \"cascading\" del filtro gaussiano.\n",
    "3. Comprueba la propiedad de \"separabilidad\" del filtro gaussiano.\n",
    "6. Implementa el box filter con la imagen integral.\n",
    "4. Implementa en Python dede cero (usando bucles) el algoritmo de convolución con una máscara general y compara su eficiencia con la versión de OpenCV.\n",
    "5. Opcional: Implementa la convolución en C y haz un \"wrapper\" para utilizarlo desde Python (consulta al profesor).\n",
    "6. Opcional: Añade alguna forma cómoda de combinar varios filtros en secuencia."
   ]
  },
  {
   "cell_type": "markdown",
   "metadata": {},
   "source": [
    "## CLASIFICADOR"
   ]
  },
  {
   "cell_type": "markdown",
   "metadata": {},
   "source": [
    "Crea una aplicación sencilla de reconocimiento de imágenes. Debe admitir (al menos) dos argumentos:\n",
    "\n",
    "`--models=<directorio>`, la carpeta donde hemos guardado un conjunto de imágenes de objetos o escenas que queremos reconocer.\n",
    "\n",
    "`--method=<nombre>`, el nombre de un método de comparación. \n",
    "\n",
    "Cada fotograma de entrada se compara con los modelos utilizando el método seleccionado y se muestra información sobre el resultado (el modelo más parecido o probable, las distancias a los diferentes modelos, alguna medida de confianza, etc.).\n",
    "\n",
    "1. Diseña la aplicación para que sea cómodo añadir nuevos métodos. Cada método debe implementarse en un módulo diferente con un interfaz común.\n",
    "1. Puedes permitir que se añadan modelos sobre la marcha y dar la opción de salvarlos.\n",
    "1. Precomputa todo lo necesario para cada modelo, para que la comparación sea lo más rápida posible.\n",
    "1. Implementa un método basado en el \"embedding\" obtenido por [mediapipe](https://developers.google.com/mediapipe/solutions/vision/image_embedder) (`code/DL/embbeder`).\n",
    "1. Implementa un reconocedor de gestos de manos basado, por ejemplo, en la distancia procrustes."
   ]
  }
 ],
 "metadata": {
  "hide_input": false,
  "kernelspec": {
   "display_name": "Python 3 (ipykernel)",
   "language": "python",
   "name": "python3"
  },
  "language_info": {
   "codemirror_mode": {
    "name": "ipython",
    "version": 3
   },
   "file_extension": ".py",
   "mimetype": "text/x-python",
   "name": "python",
   "nbconvert_exporter": "python",
   "pygments_lexer": "ipython3",
   "version": "3.11.11"
  },
  "nbTranslate": {
   "displayLangs": [
    "en",
    "es"
   ],
   "hotkey": "alt-t",
   "langInMainMenu": true,
   "sourceLang": "es",
   "targetLang": "en",
   "useGoogleTranslate": true
  },
  "varInspector": {
   "cols": {
    "lenName": 16,
    "lenType": 16,
    "lenVar": 40
   },
   "kernels_config": {
    "python": {
     "delete_cmd_postfix": "",
     "delete_cmd_prefix": "del ",
     "library": "var_list.py",
     "varRefreshCmd": "print(var_dic_list())"
    },
    "r": {
     "delete_cmd_postfix": ") ",
     "delete_cmd_prefix": "rm(",
     "library": "var_list.r",
     "varRefreshCmd": "cat(var_dic_list()) "
    }
   },
   "types_to_exclude": [
    "module",
    "function",
    "builtin_function_or_method",
    "instance",
    "_Feature"
   ],
   "window_display": false
  }
 },
 "nbformat": 4,
 "nbformat_minor": 4
}
